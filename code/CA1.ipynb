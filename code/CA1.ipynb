{
 "cells": [
  {
   "cell_type": "markdown",
   "metadata": {},
   "source": [
    "# ISY5002 PSUPR/PRMLS CA1\n",
    "## Data set is sourced from https://archive.ics.uci.edu/ml/datasets/Dota2+Games+Results\n",
    "## Data set label for column 5 onward are from https://github.com/kronusme/dota2-api/blob/master/data/heroes.json\n",
    "\n",
    "The objectives is to predict if a game will win given the type of heroes picked by both teams from a pool of 113 possible heroes to choose from.\n",
    "The \"Won\" column denotes the whether the team won (value of 1) or if the opposition team won (value of -1)\n",
    "Column 5 onwards represent the heroes that could be picked, each team will pick 5 heroes with value of 1 representing hero picked by the team and value of -1 for heroes picked by the opposition team. Value of zero represents heroes not picked by either teams."
   ]
  },
  {
   "cell_type": "markdown",
   "metadata": {},
   "source": [
    "##### Import dependencies"
   ]
  },
  {
   "cell_type": "code",
   "execution_count": 62,
   "metadata": {},
   "outputs": [],
   "source": [
    "import numpy as np\n",
    "import pandas as pd\n",
    "import matplotlib.pyplot as plt\n",
    "%matplotlib inline\n",
    "\n",
    "from sklearn.svm import SVC\n",
    "from sklearn.preprocessing import Normalizer, MinMaxScaler\n",
    "from sklearn import metrics"
   ]
  },
  {
   "cell_type": "markdown",
   "metadata": {},
   "source": [
    "##### Read dataset from csv"
   ]
  },
  {
   "cell_type": "code",
   "execution_count": 26,
   "metadata": {},
   "outputs": [],
   "source": [
    "raw_data_train = pd.read_csv('..\\dataset\\dota2Train.csv')\n",
    "raw_data_test = pd.read_csv('..\\dataset\\dota2Test.csv')"
   ]
  },
  {
   "cell_type": "code",
   "execution_count": 28,
   "metadata": {},
   "outputs": [
    {
     "data": {
      "text/html": [
       "<div>\n",
       "<style scoped>\n",
       "    .dataframe tbody tr th:only-of-type {\n",
       "        vertical-align: middle;\n",
       "    }\n",
       "\n",
       "    .dataframe tbody tr th {\n",
       "        vertical-align: top;\n",
       "    }\n",
       "\n",
       "    .dataframe thead th {\n",
       "        text-align: right;\n",
       "    }\n",
       "</style>\n",
       "<table border=\"1\" class=\"dataframe\">\n",
       "  <thead>\n",
       "    <tr style=\"text-align: right;\">\n",
       "      <th></th>\n",
       "      <th>Won</th>\n",
       "      <th>Cluster ID</th>\n",
       "      <th>Game Mode</th>\n",
       "      <th>Game Type</th>\n",
       "      <th>Anti-Mage</th>\n",
       "      <th>Axe</th>\n",
       "      <th>Bane</th>\n",
       "      <th>Bloodseeker</th>\n",
       "      <th>Crystal Maiden</th>\n",
       "      <th>Drow Ranger</th>\n",
       "      <th>...</th>\n",
       "      <th>Legion Commander</th>\n",
       "      <th>Techies</th>\n",
       "      <th>Ember Spirit</th>\n",
       "      <th>Earth Spirit</th>\n",
       "      <th>Abyssal Underlord</th>\n",
       "      <th>Terrorblade</th>\n",
       "      <th>Phoenix</th>\n",
       "      <th>Oracle</th>\n",
       "      <th>Winter Wyvern</th>\n",
       "      <th>Arc Warden</th>\n",
       "    </tr>\n",
       "  </thead>\n",
       "  <tbody>\n",
       "    <tr>\n",
       "      <td>0</td>\n",
       "      <td>-1</td>\n",
       "      <td>223</td>\n",
       "      <td>2</td>\n",
       "      <td>2</td>\n",
       "      <td>0</td>\n",
       "      <td>0</td>\n",
       "      <td>0</td>\n",
       "      <td>0</td>\n",
       "      <td>0</td>\n",
       "      <td>0</td>\n",
       "      <td>...</td>\n",
       "      <td>0</td>\n",
       "      <td>0</td>\n",
       "      <td>0</td>\n",
       "      <td>0</td>\n",
       "      <td>0</td>\n",
       "      <td>0</td>\n",
       "      <td>0</td>\n",
       "      <td>0</td>\n",
       "      <td>0</td>\n",
       "      <td>0</td>\n",
       "    </tr>\n",
       "    <tr>\n",
       "      <td>1</td>\n",
       "      <td>1</td>\n",
       "      <td>152</td>\n",
       "      <td>2</td>\n",
       "      <td>2</td>\n",
       "      <td>0</td>\n",
       "      <td>0</td>\n",
       "      <td>0</td>\n",
       "      <td>1</td>\n",
       "      <td>0</td>\n",
       "      <td>-1</td>\n",
       "      <td>...</td>\n",
       "      <td>0</td>\n",
       "      <td>0</td>\n",
       "      <td>0</td>\n",
       "      <td>0</td>\n",
       "      <td>0</td>\n",
       "      <td>0</td>\n",
       "      <td>0</td>\n",
       "      <td>0</td>\n",
       "      <td>0</td>\n",
       "      <td>0</td>\n",
       "    </tr>\n",
       "    <tr>\n",
       "      <td>2</td>\n",
       "      <td>1</td>\n",
       "      <td>131</td>\n",
       "      <td>2</td>\n",
       "      <td>2</td>\n",
       "      <td>0</td>\n",
       "      <td>0</td>\n",
       "      <td>0</td>\n",
       "      <td>1</td>\n",
       "      <td>0</td>\n",
       "      <td>-1</td>\n",
       "      <td>...</td>\n",
       "      <td>0</td>\n",
       "      <td>0</td>\n",
       "      <td>0</td>\n",
       "      <td>0</td>\n",
       "      <td>0</td>\n",
       "      <td>0</td>\n",
       "      <td>0</td>\n",
       "      <td>0</td>\n",
       "      <td>0</td>\n",
       "      <td>0</td>\n",
       "    </tr>\n",
       "    <tr>\n",
       "      <td>3</td>\n",
       "      <td>1</td>\n",
       "      <td>154</td>\n",
       "      <td>2</td>\n",
       "      <td>2</td>\n",
       "      <td>0</td>\n",
       "      <td>0</td>\n",
       "      <td>0</td>\n",
       "      <td>0</td>\n",
       "      <td>0</td>\n",
       "      <td>0</td>\n",
       "      <td>...</td>\n",
       "      <td>-1</td>\n",
       "      <td>0</td>\n",
       "      <td>0</td>\n",
       "      <td>0</td>\n",
       "      <td>0</td>\n",
       "      <td>0</td>\n",
       "      <td>0</td>\n",
       "      <td>0</td>\n",
       "      <td>0</td>\n",
       "      <td>0</td>\n",
       "    </tr>\n",
       "    <tr>\n",
       "      <td>4</td>\n",
       "      <td>-1</td>\n",
       "      <td>171</td>\n",
       "      <td>2</td>\n",
       "      <td>3</td>\n",
       "      <td>0</td>\n",
       "      <td>0</td>\n",
       "      <td>0</td>\n",
       "      <td>0</td>\n",
       "      <td>0</td>\n",
       "      <td>-1</td>\n",
       "      <td>...</td>\n",
       "      <td>0</td>\n",
       "      <td>0</td>\n",
       "      <td>0</td>\n",
       "      <td>0</td>\n",
       "      <td>0</td>\n",
       "      <td>0</td>\n",
       "      <td>0</td>\n",
       "      <td>0</td>\n",
       "      <td>0</td>\n",
       "      <td>0</td>\n",
       "    </tr>\n",
       "  </tbody>\n",
       "</table>\n",
       "<p>5 rows × 117 columns</p>\n",
       "</div>"
      ],
      "text/plain": [
       "   Won  Cluster ID  Game Mode  Game Type  Anti-Mage  Axe  Bane  Bloodseeker  \\\n",
       "0   -1         223          2          2          0    0     0            0   \n",
       "1    1         152          2          2          0    0     0            1   \n",
       "2    1         131          2          2          0    0     0            1   \n",
       "3    1         154          2          2          0    0     0            0   \n",
       "4   -1         171          2          3          0    0     0            0   \n",
       "\n",
       "   Crystal Maiden  Drow Ranger  ...  Legion Commander  Techies  Ember Spirit  \\\n",
       "0               0            0  ...                 0        0             0   \n",
       "1               0           -1  ...                 0        0             0   \n",
       "2               0           -1  ...                 0        0             0   \n",
       "3               0            0  ...                -1        0             0   \n",
       "4               0           -1  ...                 0        0             0   \n",
       "\n",
       "   Earth Spirit  Abyssal Underlord  Terrorblade  Phoenix  Oracle  \\\n",
       "0             0                  0            0        0       0   \n",
       "1             0                  0            0        0       0   \n",
       "2             0                  0            0        0       0   \n",
       "3             0                  0            0        0       0   \n",
       "4             0                  0            0        0       0   \n",
       "\n",
       "   Winter Wyvern  Arc Warden  \n",
       "0              0           0  \n",
       "1              0           0  \n",
       "2              0           0  \n",
       "3              0           0  \n",
       "4              0           0  \n",
       "\n",
       "[5 rows x 117 columns]"
      ]
     },
     "execution_count": 28,
     "metadata": {},
     "output_type": "execute_result"
    }
   ],
   "source": [
    "raw_data_train.head()"
   ]
  },
  {
   "cell_type": "markdown",
   "metadata": {},
   "source": [
    "##### Drop label columns and other non-relevent column"
   ]
  },
  {
   "cell_type": "code",
   "execution_count": 29,
   "metadata": {},
   "outputs": [],
   "source": [
    "x_train = raw_data_train.drop([\"Won\", \"Cluster ID\", \"Game Mode\", \"Game Type\"], axis=1)\n",
    "y_train = raw_data_train[\"Won\"]\n",
    "x_test = raw_data_test.drop([\"Won\", \"Cluster ID\", \"Game Mode\", \"Game Type\"], axis=1)\n",
    "y_test = raw_data_test[\"Won\"]"
   ]
  },
  {
   "cell_type": "code",
   "execution_count": 30,
   "metadata": {},
   "outputs": [
    {
     "data": {
      "text/html": [
       "<div>\n",
       "<style scoped>\n",
       "    .dataframe tbody tr th:only-of-type {\n",
       "        vertical-align: middle;\n",
       "    }\n",
       "\n",
       "    .dataframe tbody tr th {\n",
       "        vertical-align: top;\n",
       "    }\n",
       "\n",
       "    .dataframe thead th {\n",
       "        text-align: right;\n",
       "    }\n",
       "</style>\n",
       "<table border=\"1\" class=\"dataframe\">\n",
       "  <thead>\n",
       "    <tr style=\"text-align: right;\">\n",
       "      <th></th>\n",
       "      <th>Anti-Mage</th>\n",
       "      <th>Axe</th>\n",
       "      <th>Bane</th>\n",
       "      <th>Bloodseeker</th>\n",
       "      <th>Crystal Maiden</th>\n",
       "      <th>Drow Ranger</th>\n",
       "      <th>Earthshaker</th>\n",
       "      <th>Juggernaut</th>\n",
       "      <th>Mirana</th>\n",
       "      <th>Shadow Fiend</th>\n",
       "      <th>...</th>\n",
       "      <th>Legion Commander</th>\n",
       "      <th>Techies</th>\n",
       "      <th>Ember Spirit</th>\n",
       "      <th>Earth Spirit</th>\n",
       "      <th>Abyssal Underlord</th>\n",
       "      <th>Terrorblade</th>\n",
       "      <th>Phoenix</th>\n",
       "      <th>Oracle</th>\n",
       "      <th>Winter Wyvern</th>\n",
       "      <th>Arc Warden</th>\n",
       "    </tr>\n",
       "  </thead>\n",
       "  <tbody>\n",
       "    <tr>\n",
       "      <td>0</td>\n",
       "      <td>0</td>\n",
       "      <td>0</td>\n",
       "      <td>0</td>\n",
       "      <td>0</td>\n",
       "      <td>0</td>\n",
       "      <td>0</td>\n",
       "      <td>0</td>\n",
       "      <td>0</td>\n",
       "      <td>0</td>\n",
       "      <td>1</td>\n",
       "      <td>...</td>\n",
       "      <td>0</td>\n",
       "      <td>0</td>\n",
       "      <td>0</td>\n",
       "      <td>0</td>\n",
       "      <td>0</td>\n",
       "      <td>0</td>\n",
       "      <td>0</td>\n",
       "      <td>0</td>\n",
       "      <td>0</td>\n",
       "      <td>0</td>\n",
       "    </tr>\n",
       "    <tr>\n",
       "      <td>1</td>\n",
       "      <td>0</td>\n",
       "      <td>0</td>\n",
       "      <td>0</td>\n",
       "      <td>1</td>\n",
       "      <td>0</td>\n",
       "      <td>-1</td>\n",
       "      <td>0</td>\n",
       "      <td>0</td>\n",
       "      <td>0</td>\n",
       "      <td>0</td>\n",
       "      <td>...</td>\n",
       "      <td>0</td>\n",
       "      <td>0</td>\n",
       "      <td>0</td>\n",
       "      <td>0</td>\n",
       "      <td>0</td>\n",
       "      <td>0</td>\n",
       "      <td>0</td>\n",
       "      <td>0</td>\n",
       "      <td>0</td>\n",
       "      <td>0</td>\n",
       "    </tr>\n",
       "    <tr>\n",
       "      <td>2</td>\n",
       "      <td>0</td>\n",
       "      <td>0</td>\n",
       "      <td>0</td>\n",
       "      <td>1</td>\n",
       "      <td>0</td>\n",
       "      <td>-1</td>\n",
       "      <td>0</td>\n",
       "      <td>0</td>\n",
       "      <td>0</td>\n",
       "      <td>0</td>\n",
       "      <td>...</td>\n",
       "      <td>0</td>\n",
       "      <td>0</td>\n",
       "      <td>0</td>\n",
       "      <td>0</td>\n",
       "      <td>0</td>\n",
       "      <td>0</td>\n",
       "      <td>0</td>\n",
       "      <td>0</td>\n",
       "      <td>0</td>\n",
       "      <td>0</td>\n",
       "    </tr>\n",
       "    <tr>\n",
       "      <td>3</td>\n",
       "      <td>0</td>\n",
       "      <td>0</td>\n",
       "      <td>0</td>\n",
       "      <td>0</td>\n",
       "      <td>0</td>\n",
       "      <td>0</td>\n",
       "      <td>-1</td>\n",
       "      <td>0</td>\n",
       "      <td>0</td>\n",
       "      <td>0</td>\n",
       "      <td>...</td>\n",
       "      <td>-1</td>\n",
       "      <td>0</td>\n",
       "      <td>0</td>\n",
       "      <td>0</td>\n",
       "      <td>0</td>\n",
       "      <td>0</td>\n",
       "      <td>0</td>\n",
       "      <td>0</td>\n",
       "      <td>0</td>\n",
       "      <td>0</td>\n",
       "    </tr>\n",
       "    <tr>\n",
       "      <td>4</td>\n",
       "      <td>0</td>\n",
       "      <td>0</td>\n",
       "      <td>0</td>\n",
       "      <td>0</td>\n",
       "      <td>0</td>\n",
       "      <td>-1</td>\n",
       "      <td>0</td>\n",
       "      <td>0</td>\n",
       "      <td>-1</td>\n",
       "      <td>0</td>\n",
       "      <td>...</td>\n",
       "      <td>0</td>\n",
       "      <td>0</td>\n",
       "      <td>0</td>\n",
       "      <td>0</td>\n",
       "      <td>0</td>\n",
       "      <td>0</td>\n",
       "      <td>0</td>\n",
       "      <td>0</td>\n",
       "      <td>0</td>\n",
       "      <td>0</td>\n",
       "    </tr>\n",
       "  </tbody>\n",
       "</table>\n",
       "<p>5 rows × 113 columns</p>\n",
       "</div>"
      ],
      "text/plain": [
       "   Anti-Mage  Axe  Bane  Bloodseeker  Crystal Maiden  Drow Ranger  \\\n",
       "0          0    0     0            0               0            0   \n",
       "1          0    0     0            1               0           -1   \n",
       "2          0    0     0            1               0           -1   \n",
       "3          0    0     0            0               0            0   \n",
       "4          0    0     0            0               0           -1   \n",
       "\n",
       "   Earthshaker  Juggernaut  Mirana  Shadow Fiend  ...  Legion Commander  \\\n",
       "0            0           0       0             1  ...                 0   \n",
       "1            0           0       0             0  ...                 0   \n",
       "2            0           0       0             0  ...                 0   \n",
       "3           -1           0       0             0  ...                -1   \n",
       "4            0           0      -1             0  ...                 0   \n",
       "\n",
       "   Techies  Ember Spirit  Earth Spirit  Abyssal Underlord  Terrorblade  \\\n",
       "0        0             0             0                  0            0   \n",
       "1        0             0             0                  0            0   \n",
       "2        0             0             0                  0            0   \n",
       "3        0             0             0                  0            0   \n",
       "4        0             0             0                  0            0   \n",
       "\n",
       "   Phoenix  Oracle  Winter Wyvern  Arc Warden  \n",
       "0        0       0              0           0  \n",
       "1        0       0              0           0  \n",
       "2        0       0              0           0  \n",
       "3        0       0              0           0  \n",
       "4        0       0              0           0  \n",
       "\n",
       "[5 rows x 113 columns]"
      ]
     },
     "execution_count": 30,
     "metadata": {},
     "output_type": "execute_result"
    }
   ],
   "source": [
    "x_train.head()"
   ]
  },
  {
   "cell_type": "code",
   "execution_count": 31,
   "metadata": {},
   "outputs": [
    {
     "data": {
      "text/plain": [
       "0   -1\n",
       "1    1\n",
       "2    1\n",
       "3    1\n",
       "4   -1\n",
       "Name: Won, dtype: int64"
      ]
     },
     "execution_count": 31,
     "metadata": {},
     "output_type": "execute_result"
    }
   ],
   "source": [
    "y_train.head()"
   ]
  },
  {
   "cell_type": "code",
   "execution_count": 32,
   "metadata": {},
   "outputs": [
    {
     "name": "stdout",
     "output_type": "stream",
     "text": [
      "<class 'pandas.core.frame.DataFrame'>\n",
      "RangeIndex: 92650 entries, 0 to 92649\n",
      "Columns: 113 entries, Anti-Mage to Arc Warden\n",
      "dtypes: int64(113)\n",
      "memory usage: 79.9 MB\n"
     ]
    }
   ],
   "source": [
    "x_train.info()"
   ]
  },
  {
   "cell_type": "code",
   "execution_count": 33,
   "metadata": {},
   "outputs": [
    {
     "data": {
      "text/html": [
       "<div>\n",
       "<style scoped>\n",
       "    .dataframe tbody tr th:only-of-type {\n",
       "        vertical-align: middle;\n",
       "    }\n",
       "\n",
       "    .dataframe tbody tr th {\n",
       "        vertical-align: top;\n",
       "    }\n",
       "\n",
       "    .dataframe thead th {\n",
       "        text-align: right;\n",
       "    }\n",
       "</style>\n",
       "<table border=\"1\" class=\"dataframe\">\n",
       "  <thead>\n",
       "    <tr style=\"text-align: right;\">\n",
       "      <th></th>\n",
       "      <th>Anti-Mage</th>\n",
       "      <th>Axe</th>\n",
       "      <th>Bane</th>\n",
       "      <th>Bloodseeker</th>\n",
       "      <th>Crystal Maiden</th>\n",
       "      <th>Drow Ranger</th>\n",
       "      <th>Earthshaker</th>\n",
       "      <th>Juggernaut</th>\n",
       "      <th>Mirana</th>\n",
       "      <th>Shadow Fiend</th>\n",
       "      <th>...</th>\n",
       "      <th>Legion Commander</th>\n",
       "      <th>Techies</th>\n",
       "      <th>Ember Spirit</th>\n",
       "      <th>Earth Spirit</th>\n",
       "      <th>Abyssal Underlord</th>\n",
       "      <th>Terrorblade</th>\n",
       "      <th>Phoenix</th>\n",
       "      <th>Oracle</th>\n",
       "      <th>Winter Wyvern</th>\n",
       "      <th>Arc Warden</th>\n",
       "    </tr>\n",
       "  </thead>\n",
       "  <tbody>\n",
       "    <tr>\n",
       "      <td>count</td>\n",
       "      <td>92650.000000</td>\n",
       "      <td>92650.000000</td>\n",
       "      <td>92650.000000</td>\n",
       "      <td>92650.000000</td>\n",
       "      <td>92650.000000</td>\n",
       "      <td>92650.000000</td>\n",
       "      <td>92650.000000</td>\n",
       "      <td>92650.000000</td>\n",
       "      <td>92650.000000</td>\n",
       "      <td>92650.000000</td>\n",
       "      <td>...</td>\n",
       "      <td>92650.000000</td>\n",
       "      <td>92650.000000</td>\n",
       "      <td>92650.000000</td>\n",
       "      <td>92650.000000</td>\n",
       "      <td>92650.0</td>\n",
       "      <td>92650.000000</td>\n",
       "      <td>92650.000000</td>\n",
       "      <td>92650.000000</td>\n",
       "      <td>92650.000000</td>\n",
       "      <td>92650.000000</td>\n",
       "    </tr>\n",
       "    <tr>\n",
       "      <td>mean</td>\n",
       "      <td>-0.001630</td>\n",
       "      <td>-0.000971</td>\n",
       "      <td>0.000691</td>\n",
       "      <td>-0.000799</td>\n",
       "      <td>-0.002008</td>\n",
       "      <td>0.003173</td>\n",
       "      <td>-0.000345</td>\n",
       "      <td>-0.003832</td>\n",
       "      <td>0.005979</td>\n",
       "      <td>0.001543</td>\n",
       "      <td>...</td>\n",
       "      <td>-0.001371</td>\n",
       "      <td>-0.000950</td>\n",
       "      <td>0.000885</td>\n",
       "      <td>0.000594</td>\n",
       "      <td>0.0</td>\n",
       "      <td>0.001025</td>\n",
       "      <td>0.000648</td>\n",
       "      <td>-0.000227</td>\n",
       "      <td>-0.000043</td>\n",
       "      <td>0.000896</td>\n",
       "    </tr>\n",
       "    <tr>\n",
       "      <td>std</td>\n",
       "      <td>0.402004</td>\n",
       "      <td>0.467672</td>\n",
       "      <td>0.165052</td>\n",
       "      <td>0.355393</td>\n",
       "      <td>0.329348</td>\n",
       "      <td>0.483950</td>\n",
       "      <td>0.348865</td>\n",
       "      <td>0.501760</td>\n",
       "      <td>0.588109</td>\n",
       "      <td>0.325344</td>\n",
       "      <td>...</td>\n",
       "      <td>0.535024</td>\n",
       "      <td>0.206112</td>\n",
       "      <td>0.283985</td>\n",
       "      <td>0.155940</td>\n",
       "      <td>0.0</td>\n",
       "      <td>0.220703</td>\n",
       "      <td>0.204166</td>\n",
       "      <td>0.168707</td>\n",
       "      <td>0.189868</td>\n",
       "      <td>0.139033</td>\n",
       "    </tr>\n",
       "    <tr>\n",
       "      <td>min</td>\n",
       "      <td>-1.000000</td>\n",
       "      <td>-1.000000</td>\n",
       "      <td>-1.000000</td>\n",
       "      <td>-1.000000</td>\n",
       "      <td>-1.000000</td>\n",
       "      <td>-1.000000</td>\n",
       "      <td>-1.000000</td>\n",
       "      <td>-1.000000</td>\n",
       "      <td>-1.000000</td>\n",
       "      <td>-1.000000</td>\n",
       "      <td>...</td>\n",
       "      <td>-1.000000</td>\n",
       "      <td>-1.000000</td>\n",
       "      <td>-1.000000</td>\n",
       "      <td>-1.000000</td>\n",
       "      <td>0.0</td>\n",
       "      <td>-1.000000</td>\n",
       "      <td>-1.000000</td>\n",
       "      <td>-1.000000</td>\n",
       "      <td>-1.000000</td>\n",
       "      <td>-1.000000</td>\n",
       "    </tr>\n",
       "    <tr>\n",
       "      <td>25%</td>\n",
       "      <td>0.000000</td>\n",
       "      <td>0.000000</td>\n",
       "      <td>0.000000</td>\n",
       "      <td>0.000000</td>\n",
       "      <td>0.000000</td>\n",
       "      <td>0.000000</td>\n",
       "      <td>0.000000</td>\n",
       "      <td>0.000000</td>\n",
       "      <td>0.000000</td>\n",
       "      <td>0.000000</td>\n",
       "      <td>...</td>\n",
       "      <td>0.000000</td>\n",
       "      <td>0.000000</td>\n",
       "      <td>0.000000</td>\n",
       "      <td>0.000000</td>\n",
       "      <td>0.0</td>\n",
       "      <td>0.000000</td>\n",
       "      <td>0.000000</td>\n",
       "      <td>0.000000</td>\n",
       "      <td>0.000000</td>\n",
       "      <td>0.000000</td>\n",
       "    </tr>\n",
       "    <tr>\n",
       "      <td>50%</td>\n",
       "      <td>0.000000</td>\n",
       "      <td>0.000000</td>\n",
       "      <td>0.000000</td>\n",
       "      <td>0.000000</td>\n",
       "      <td>0.000000</td>\n",
       "      <td>0.000000</td>\n",
       "      <td>0.000000</td>\n",
       "      <td>0.000000</td>\n",
       "      <td>0.000000</td>\n",
       "      <td>0.000000</td>\n",
       "      <td>...</td>\n",
       "      <td>0.000000</td>\n",
       "      <td>0.000000</td>\n",
       "      <td>0.000000</td>\n",
       "      <td>0.000000</td>\n",
       "      <td>0.0</td>\n",
       "      <td>0.000000</td>\n",
       "      <td>0.000000</td>\n",
       "      <td>0.000000</td>\n",
       "      <td>0.000000</td>\n",
       "      <td>0.000000</td>\n",
       "    </tr>\n",
       "    <tr>\n",
       "      <td>75%</td>\n",
       "      <td>0.000000</td>\n",
       "      <td>0.000000</td>\n",
       "      <td>0.000000</td>\n",
       "      <td>0.000000</td>\n",
       "      <td>0.000000</td>\n",
       "      <td>0.000000</td>\n",
       "      <td>0.000000</td>\n",
       "      <td>0.000000</td>\n",
       "      <td>0.000000</td>\n",
       "      <td>0.000000</td>\n",
       "      <td>...</td>\n",
       "      <td>0.000000</td>\n",
       "      <td>0.000000</td>\n",
       "      <td>0.000000</td>\n",
       "      <td>0.000000</td>\n",
       "      <td>0.0</td>\n",
       "      <td>0.000000</td>\n",
       "      <td>0.000000</td>\n",
       "      <td>0.000000</td>\n",
       "      <td>0.000000</td>\n",
       "      <td>0.000000</td>\n",
       "    </tr>\n",
       "    <tr>\n",
       "      <td>max</td>\n",
       "      <td>1.000000</td>\n",
       "      <td>1.000000</td>\n",
       "      <td>1.000000</td>\n",
       "      <td>1.000000</td>\n",
       "      <td>1.000000</td>\n",
       "      <td>1.000000</td>\n",
       "      <td>1.000000</td>\n",
       "      <td>1.000000</td>\n",
       "      <td>1.000000</td>\n",
       "      <td>1.000000</td>\n",
       "      <td>...</td>\n",
       "      <td>1.000000</td>\n",
       "      <td>1.000000</td>\n",
       "      <td>1.000000</td>\n",
       "      <td>1.000000</td>\n",
       "      <td>0.0</td>\n",
       "      <td>1.000000</td>\n",
       "      <td>1.000000</td>\n",
       "      <td>1.000000</td>\n",
       "      <td>1.000000</td>\n",
       "      <td>1.000000</td>\n",
       "    </tr>\n",
       "  </tbody>\n",
       "</table>\n",
       "<p>8 rows × 113 columns</p>\n",
       "</div>"
      ],
      "text/plain": [
       "          Anti-Mage           Axe          Bane   Bloodseeker  Crystal Maiden  \\\n",
       "count  92650.000000  92650.000000  92650.000000  92650.000000    92650.000000   \n",
       "mean      -0.001630     -0.000971      0.000691     -0.000799       -0.002008   \n",
       "std        0.402004      0.467672      0.165052      0.355393        0.329348   \n",
       "min       -1.000000     -1.000000     -1.000000     -1.000000       -1.000000   \n",
       "25%        0.000000      0.000000      0.000000      0.000000        0.000000   \n",
       "50%        0.000000      0.000000      0.000000      0.000000        0.000000   \n",
       "75%        0.000000      0.000000      0.000000      0.000000        0.000000   \n",
       "max        1.000000      1.000000      1.000000      1.000000        1.000000   \n",
       "\n",
       "        Drow Ranger   Earthshaker    Juggernaut        Mirana  Shadow Fiend  \\\n",
       "count  92650.000000  92650.000000  92650.000000  92650.000000  92650.000000   \n",
       "mean       0.003173     -0.000345     -0.003832      0.005979      0.001543   \n",
       "std        0.483950      0.348865      0.501760      0.588109      0.325344   \n",
       "min       -1.000000     -1.000000     -1.000000     -1.000000     -1.000000   \n",
       "25%        0.000000      0.000000      0.000000      0.000000      0.000000   \n",
       "50%        0.000000      0.000000      0.000000      0.000000      0.000000   \n",
       "75%        0.000000      0.000000      0.000000      0.000000      0.000000   \n",
       "max        1.000000      1.000000      1.000000      1.000000      1.000000   \n",
       "\n",
       "       ...  Legion Commander       Techies  Ember Spirit  Earth Spirit  \\\n",
       "count  ...      92650.000000  92650.000000  92650.000000  92650.000000   \n",
       "mean   ...         -0.001371     -0.000950      0.000885      0.000594   \n",
       "std    ...          0.535024      0.206112      0.283985      0.155940   \n",
       "min    ...         -1.000000     -1.000000     -1.000000     -1.000000   \n",
       "25%    ...          0.000000      0.000000      0.000000      0.000000   \n",
       "50%    ...          0.000000      0.000000      0.000000      0.000000   \n",
       "75%    ...          0.000000      0.000000      0.000000      0.000000   \n",
       "max    ...          1.000000      1.000000      1.000000      1.000000   \n",
       "\n",
       "       Abyssal Underlord   Terrorblade       Phoenix        Oracle  \\\n",
       "count            92650.0  92650.000000  92650.000000  92650.000000   \n",
       "mean                 0.0      0.001025      0.000648     -0.000227   \n",
       "std                  0.0      0.220703      0.204166      0.168707   \n",
       "min                  0.0     -1.000000     -1.000000     -1.000000   \n",
       "25%                  0.0      0.000000      0.000000      0.000000   \n",
       "50%                  0.0      0.000000      0.000000      0.000000   \n",
       "75%                  0.0      0.000000      0.000000      0.000000   \n",
       "max                  0.0      1.000000      1.000000      1.000000   \n",
       "\n",
       "       Winter Wyvern    Arc Warden  \n",
       "count   92650.000000  92650.000000  \n",
       "mean       -0.000043      0.000896  \n",
       "std         0.189868      0.139033  \n",
       "min        -1.000000     -1.000000  \n",
       "25%         0.000000      0.000000  \n",
       "50%         0.000000      0.000000  \n",
       "75%         0.000000      0.000000  \n",
       "max         1.000000      1.000000  \n",
       "\n",
       "[8 rows x 113 columns]"
      ]
     },
     "execution_count": 33,
     "metadata": {},
     "output_type": "execute_result"
    }
   ],
   "source": [
    "x_train.describe()"
   ]
  },
  {
   "cell_type": "markdown",
   "metadata": {},
   "source": [
    "### 1st Attempt with SCM\n",
    "\n",
    "Build a model using basic linear SVC to see results"
   ]
  },
  {
   "cell_type": "code",
   "execution_count": 44,
   "metadata": {},
   "outputs": [
    {
     "name": "stdout",
     "output_type": "stream",
     "text": [
      "[LibSVM]"
     ]
    },
    {
     "name": "stderr",
     "output_type": "stream",
     "text": [
      "C:\\ProgramData\\Anaconda3\\envs\\psuprca1\\lib\\site-packages\\sklearn\\svm\\base.py:241: ConvergenceWarning: Solver terminated early (max_iter=500).  Consider pre-processing your data with StandardScaler or MinMaxScaler.\n",
      "  % self.max_iter, ConvergenceWarning)\n"
     ]
    },
    {
     "data": {
      "text/plain": [
       "SVC(C=1.0, cache_size=200, class_weight=None, coef0=0.0,\n",
       "    decision_function_shape='ovr', degree=3, gamma='auto', kernel='rbf',\n",
       "    max_iter=500, probability=True, random_state=42, shrinking=True, tol=0.001,\n",
       "    verbose=2)"
      ]
     },
     "execution_count": 44,
     "metadata": {},
     "output_type": "execute_result"
    }
   ],
   "source": [
    "svc = SVC(random_state=42, C=1.0, max_iter=500, verbose=2, gamma='auto', probability=True)\n",
    "svc.fit(x_train, y_train)"
   ]
  },
  {
   "cell_type": "markdown",
   "metadata": {},
   "source": [
    "##### Prediction and show metrics"
   ]
  },
  {
   "cell_type": "code",
   "execution_count": 47,
   "metadata": {},
   "outputs": [
    {
     "name": "stdout",
     "output_type": "stream",
     "text": [
      "[[2523 2269]\n",
      " [2859 2643]]\n",
      "              precision    recall  f1-score   support\n",
      "\n",
      "          -1       0.47      0.53      0.50      4792\n",
      "           1       0.54      0.48      0.51      5502\n",
      "\n",
      "    accuracy                           0.50     10294\n",
      "   macro avg       0.50      0.50      0.50     10294\n",
      "weighted avg       0.51      0.50      0.50     10294\n",
      "\n"
     ]
    }
   ],
   "source": [
    "y_pred = svc.predict(x_test)\n",
    "print(metrics.confusion_matrix(y_test, y_pred))\n",
    "print(metrics.classification_report(y_test, y_pred))"
   ]
  },
  {
   "cell_type": "code",
   "execution_count": 48,
   "metadata": {},
   "outputs": [
    {
     "name": "stdout",
     "output_type": "stream",
     "text": [
      "Accuracy:  0.5018457353798329\n"
     ]
    }
   ],
   "source": [
    "print(\"Accuracy: \", metrics.accuracy_score(y_test, y_pred))"
   ]
  },
  {
   "cell_type": "code",
   "execution_count": 52,
   "metadata": {},
   "outputs": [
    {
     "data": {
      "image/png": "[encoded data removed]",
      "text/plain": [
       "<Figure size 432x288 with 1 Axes>"
      ]
     },
     "metadata": {
      "needs_background": "light"
     },
     "output_type": "display_data"
    }
   ],
   "source": [
    "y_pred_proba = svc.predict_proba(x_test)[::,1]\n",
    "fpr, tpr, _ = metrics.roc_curve(y_test, y_pred_proba)\n",
    "auc = metrics.roc_auc_score(y_test, y_pred_proba)\n",
    "\n",
    "plt.plot(fpr, tpr, label=\"SVC, auc= \" + str(auc))\n",
    "plt.plot([0,1],[0,1],'k--')\n",
    "plt.legend(loc=4)\n",
    "plt.show()"
   ]
  },
  {
   "cell_type": "markdown",
   "metadata": {},
   "source": [
    "### 1st attempt summary\n",
    "\n",
    "Using a simple SVM classifier on the dataset, it is clear the attempt does not work well as the accuracy is only 50% which is as good as random."
   ]
  },
  {
   "cell_type": "code",
   "execution_count": null,
   "metadata": {},
   "outputs": [],
   "source": []
  },
  {
   "cell_type": "markdown",
   "metadata": {},
   "source": [
    "### 2nd attempt\n",
    "\n",
    "As dataset have alot of zeros value or sparse data, we will try to normalize the data before training again."
   ]
  },
  {
   "cell_type": "code",
   "execution_count": 67,
   "metadata": {},
   "outputs": [
    {
     "name": "stdout",
     "output_type": "stream",
     "text": [
      "[[ 0.          0.          0.         ...  0.          0.\n",
      "   0.        ]\n",
      " [ 0.          0.          0.         ...  0.          0.\n",
      "   0.        ]\n",
      " [ 0.          0.          0.         ...  0.          0.\n",
      "   0.        ]\n",
      " ...\n",
      " [ 0.          0.          0.         ...  0.          0.\n",
      "   0.        ]\n",
      " [ 0.          0.          0.         ...  0.          0.\n",
      "   0.        ]\n",
      " [ 0.         -0.31622777  0.         ...  0.          0.\n",
      "   0.        ]]\n"
     ]
    }
   ],
   "source": [
    "x_train_norm = Normalizer().fit_transform(x_train)\n",
    "print(x_train_norm)"
   ]
  },
  {
   "cell_type": "code",
   "execution_count": 68,
   "metadata": {},
   "outputs": [
    {
     "name": "stdout",
     "output_type": "stream",
     "text": [
      "[LibSVM]"
     ]
    },
    {
     "name": "stderr",
     "output_type": "stream",
     "text": [
      "C:\\ProgramData\\Anaconda3\\envs\\psuprca1\\lib\\site-packages\\sklearn\\svm\\base.py:241: ConvergenceWarning: Solver terminated early (max_iter=500).  Consider pre-processing your data with StandardScaler or MinMaxScaler.\n",
      "  % self.max_iter, ConvergenceWarning)\n"
     ]
    }
   ],
   "source": [
    "svc_norm = svc.fit(x_train_norm, y_train)"
   ]
  },
  {
   "cell_type": "code",
   "execution_count": 69,
   "metadata": {},
   "outputs": [
    {
     "name": "stdout",
     "output_type": "stream",
     "text": [
      "[[2053 2739]\n",
      " [2316 3186]]\n",
      "              precision    recall  f1-score   support\n",
      "\n",
      "          -1       0.47      0.43      0.45      4792\n",
      "           1       0.54      0.58      0.56      5502\n",
      "\n",
      "    accuracy                           0.51     10294\n",
      "   macro avg       0.50      0.50      0.50     10294\n",
      "weighted avg       0.51      0.51      0.51     10294\n",
      "\n"
     ]
    }
   ],
   "source": [
    "y_pred = svc.predict(x_test)\n",
    "print(metrics.confusion_matrix(y_test, y_pred))\n",
    "print(metrics.classification_report(y_test, y_pred))"
   ]
  },
  {
   "cell_type": "code",
   "execution_count": 70,
   "metadata": {},
   "outputs": [
    {
     "name": "stdout",
     "output_type": "stream",
     "text": [
      "Accuracy:  0.5089372449970857\n"
     ]
    }
   ],
   "source": [
    "print(\"Accuracy: \", metrics.accuracy_score(y_test, y_pred))"
   ]
  },
  {
   "cell_type": "code",
   "execution_count": 71,
   "metadata": {},
   "outputs": [
    {
     "data": {
      "image/png": "[encoded data removed]",
      "text/plain": [
       "<Figure size 432x288 with 1 Axes>"
      ]
     },
     "metadata": {
      "needs_background": "light"
     },
     "output_type": "display_data"
    }
   ],
   "source": [
    "y_pred_proba = svc.predict_proba(x_test)[::,1]\n",
    "fpr, tpr, _ = metrics.roc_curve(y_test, y_pred_proba)\n",
    "auc = metrics.roc_auc_score(y_test, y_pred_proba)\n",
    "\n",
    "plt.plot(fpr, tpr, label=\"SVC, auc= \" + str(auc))\n",
    "plt.plot([0,1],[0,1],'k--')\n",
    "plt.legend(loc=4)\n",
    "plt.show()"
   ]
  },
  {
   "cell_type": "markdown",
   "metadata": {},
   "source": [
    "### 2nd attempt summary\n",
    "\n",
    "Results is still not improved with normalization preprocessing, accuracy remains poor at 50%"
   ]
  },
  {
   "cell_type": "code",
   "execution_count": null,
   "metadata": {},
   "outputs": [],
   "source": []
  },
  {
   "cell_type": "markdown",
   "metadata": {},
   "source": [
    "### 3rd attempt\n",
    "\n",
    "Tune the hyper parameter with grid search"
   ]
  },
  {
   "cell_type": "code",
   "execution_count": null,
   "metadata": {},
   "outputs": [],
   "source": []
  },
  {
   "cell_type": "code",
   "execution_count": null,
   "metadata": {},
   "outputs": [],
   "source": []
  },
  {
   "cell_type": "code",
   "execution_count": null,
   "metadata": {},
   "outputs": [],
   "source": []
  },
  {
   "cell_type": "code",
   "execution_count": null,
   "metadata": {},
   "outputs": [],
   "source": []
  }
 ],
 "metadata": {
  "kernelspec": {
   "display_name": "Python 3",
   "language": "python",
   "name": "python3"
  },
  "language_info": {
   "codemirror_mode": {
    "name": "ipython",
    "version": 3
   },
   "file_extension": ".py",
   "mimetype": "text/x-python",
   "name": "python",
   "nbconvert_exporter": "python",
   "pygments_lexer": "ipython3",
   "version": "3.6.7"
  }
 },
 "nbformat": 4,
 "nbformat_minor": 4
}
