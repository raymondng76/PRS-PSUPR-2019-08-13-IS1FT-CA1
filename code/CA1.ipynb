{
 "cells": [
  {
   "cell_type": "markdown",
   "metadata": {},
   "source": [
    "# ISY5002 PSUPR/PRMLS CA1\n",
    "## Data set is sourced from https://archive.ics.uci.edu/ml/datasets/Dota2+Games+Results\n",
    "## Data set label for column 5 onward are from https://github.com/kronusme/dota2-api/blob/master/data/heroes.json\n",
    "\n",
    "The objectives is to predict if a game will win given the type of heroes picked by both teams from a pool of 113 possible heroes to choose from.\n",
    "The \"Won\" column denotes the whether the team won (value of 1) or if the opposition team won (value of -1)\n",
    "Column 5 onwards represent the heroes that could be picked, each team will pick 5 heroes with value of 1 representing hero picked by the team and value of -1 for heroes picked by the opposition team. Value of zero represents heroes not picked by either teams."
   ]
  },
  {
   "cell_type": "markdown",
   "metadata": {},
   "source": [
    "##### Name: Raymond Ng Boon Cheong  \n",
    "##### Student ID: A0198543R"
   ]
  },
  {
   "cell_type": "markdown",
   "metadata": {},
   "source": [
    "##### Import dependencies"
   ]
  },
  {
   "cell_type": "code",
   "execution_count": 2,
   "metadata": {},
   "outputs": [],
   "source": [
    "import numpy as np\n",
    "import pandas as pd\n",
    "import matplotlib.pyplot as plt\n",
    "%matplotlib inline\n",
    "\n",
    "from sklearn.pipeline import Pipeline\n",
    "from sklearn.svm import LinearSVC, SVC\n",
    "from sklearn.preprocessing import Normalizer, MinMaxScaler, StandardScaler\n",
    "from sklearn.model_selection import GridSearchCV\n",
    "from sklearn.calibration import CalibratedClassifierCV\n",
    "from sklearn.multiclass import OneVsRestClassifier\n",
    "from sklearn.ensemble import BaggingClassifier\n",
    "from sklearn.decomposition import PCA\n",
    "from sklearn.feature_selection import SelectKBest, chi2\n",
    "from sklearn import metrics\n",
    "\n",
    "import warnings\n",
    "warnings.filterwarnings('ignore')"
   ]
  },
  {
   "cell_type": "markdown",
   "metadata": {},
   "source": [
    "##### Read dataset from csv"
   ]
  },
  {
   "cell_type": "code",
   "execution_count": 3,
   "metadata": {},
   "outputs": [],
   "source": [
    "raw_data_train = pd.read_csv('..\\dataset\\dota2Train.csv')\n",
    "raw_data_test = pd.read_csv('..\\dataset\\dota2Test.csv')"
   ]
  },
  {
   "cell_type": "code",
   "execution_count": 4,
   "metadata": {},
   "outputs": [
    {
     "data": {
      "text/html": [
       "<div>\n",
       "<style scoped>\n",
       "    .dataframe tbody tr th:only-of-type {\n",
       "        vertical-align: middle;\n",
       "    }\n",
       "\n",
       "    .dataframe tbody tr th {\n",
       "        vertical-align: top;\n",
       "    }\n",
       "\n",
       "    .dataframe thead th {\n",
       "        text-align: right;\n",
       "    }\n",
       "</style>\n",
       "<table border=\"1\" class=\"dataframe\">\n",
       "  <thead>\n",
       "    <tr style=\"text-align: right;\">\n",
       "      <th></th>\n",
       "      <th>Won</th>\n",
       "      <th>Cluster ID</th>\n",
       "      <th>Game Mode</th>\n",
       "      <th>Game Type</th>\n",
       "      <th>Anti-Mage</th>\n",
       "      <th>Axe</th>\n",
       "      <th>Bane</th>\n",
       "      <th>Bloodseeker</th>\n",
       "      <th>Crystal Maiden</th>\n",
       "      <th>Drow Ranger</th>\n",
       "      <th>...</th>\n",
       "      <th>Legion Commander</th>\n",
       "      <th>Techies</th>\n",
       "      <th>Ember Spirit</th>\n",
       "      <th>Earth Spirit</th>\n",
       "      <th>Abyssal Underlord</th>\n",
       "      <th>Terrorblade</th>\n",
       "      <th>Phoenix</th>\n",
       "      <th>Oracle</th>\n",
       "      <th>Winter Wyvern</th>\n",
       "      <th>Arc Warden</th>\n",
       "    </tr>\n",
       "  </thead>\n",
       "  <tbody>\n",
       "    <tr>\n",
       "      <td>0</td>\n",
       "      <td>-1</td>\n",
       "      <td>223</td>\n",
       "      <td>2</td>\n",
       "      <td>2</td>\n",
       "      <td>0</td>\n",
       "      <td>0</td>\n",
       "      <td>0</td>\n",
       "      <td>0</td>\n",
       "      <td>0</td>\n",
       "      <td>0</td>\n",
       "      <td>...</td>\n",
       "      <td>0</td>\n",
       "      <td>0</td>\n",
       "      <td>0</td>\n",
       "      <td>0</td>\n",
       "      <td>0</td>\n",
       "      <td>0</td>\n",
       "      <td>0</td>\n",
       "      <td>0</td>\n",
       "      <td>0</td>\n",
       "      <td>0</td>\n",
       "    </tr>\n",
       "    <tr>\n",
       "      <td>1</td>\n",
       "      <td>1</td>\n",
       "      <td>152</td>\n",
       "      <td>2</td>\n",
       "      <td>2</td>\n",
       "      <td>0</td>\n",
       "      <td>0</td>\n",
       "      <td>0</td>\n",
       "      <td>1</td>\n",
       "      <td>0</td>\n",
       "      <td>-1</td>\n",
       "      <td>...</td>\n",
       "      <td>0</td>\n",
       "      <td>0</td>\n",
       "      <td>0</td>\n",
       "      <td>0</td>\n",
       "      <td>0</td>\n",
       "      <td>0</td>\n",
       "      <td>0</td>\n",
       "      <td>0</td>\n",
       "      <td>0</td>\n",
       "      <td>0</td>\n",
       "    </tr>\n",
       "    <tr>\n",
       "      <td>2</td>\n",
       "      <td>1</td>\n",
       "      <td>131</td>\n",
       "      <td>2</td>\n",
       "      <td>2</td>\n",
       "      <td>0</td>\n",
       "      <td>0</td>\n",
       "      <td>0</td>\n",
       "      <td>1</td>\n",
       "      <td>0</td>\n",
       "      <td>-1</td>\n",
       "      <td>...</td>\n",
       "      <td>0</td>\n",
       "      <td>0</td>\n",
       "      <td>0</td>\n",
       "      <td>0</td>\n",
       "      <td>0</td>\n",
       "      <td>0</td>\n",
       "      <td>0</td>\n",
       "      <td>0</td>\n",
       "      <td>0</td>\n",
       "      <td>0</td>\n",
       "    </tr>\n",
       "    <tr>\n",
       "      <td>3</td>\n",
       "      <td>1</td>\n",
       "      <td>154</td>\n",
       "      <td>2</td>\n",
       "      <td>2</td>\n",
       "      <td>0</td>\n",
       "      <td>0</td>\n",
       "      <td>0</td>\n",
       "      <td>0</td>\n",
       "      <td>0</td>\n",
       "      <td>0</td>\n",
       "      <td>...</td>\n",
       "      <td>-1</td>\n",
       "      <td>0</td>\n",
       "      <td>0</td>\n",
       "      <td>0</td>\n",
       "      <td>0</td>\n",
       "      <td>0</td>\n",
       "      <td>0</td>\n",
       "      <td>0</td>\n",
       "      <td>0</td>\n",
       "      <td>0</td>\n",
       "    </tr>\n",
       "    <tr>\n",
       "      <td>4</td>\n",
       "      <td>-1</td>\n",
       "      <td>171</td>\n",
       "      <td>2</td>\n",
       "      <td>3</td>\n",
       "      <td>0</td>\n",
       "      <td>0</td>\n",
       "      <td>0</td>\n",
       "      <td>0</td>\n",
       "      <td>0</td>\n",
       "      <td>-1</td>\n",
       "      <td>...</td>\n",
       "      <td>0</td>\n",
       "      <td>0</td>\n",
       "      <td>0</td>\n",
       "      <td>0</td>\n",
       "      <td>0</td>\n",
       "      <td>0</td>\n",
       "      <td>0</td>\n",
       "      <td>0</td>\n",
       "      <td>0</td>\n",
       "      <td>0</td>\n",
       "    </tr>\n",
       "  </tbody>\n",
       "</table>\n",
       "<p>5 rows × 117 columns</p>\n",
       "</div>"
      ],
      "text/plain": [
       "   Won  Cluster ID  Game Mode  Game Type  Anti-Mage  Axe  Bane  Bloodseeker  \\\n",
       "0   -1         223          2          2          0    0     0            0   \n",
       "1    1         152          2          2          0    0     0            1   \n",
       "2    1         131          2          2          0    0     0            1   \n",
       "3    1         154          2          2          0    0     0            0   \n",
       "4   -1         171          2          3          0    0     0            0   \n",
       "\n",
       "   Crystal Maiden  Drow Ranger  ...  Legion Commander  Techies  Ember Spirit  \\\n",
       "0               0            0  ...                 0        0             0   \n",
       "1               0           -1  ...                 0        0             0   \n",
       "2               0           -1  ...                 0        0             0   \n",
       "3               0            0  ...                -1        0             0   \n",
       "4               0           -1  ...                 0        0             0   \n",
       "\n",
       "   Earth Spirit  Abyssal Underlord  Terrorblade  Phoenix  Oracle  \\\n",
       "0             0                  0            0        0       0   \n",
       "1             0                  0            0        0       0   \n",
       "2             0                  0            0        0       0   \n",
       "3             0                  0            0        0       0   \n",
       "4             0                  0            0        0       0   \n",
       "\n",
       "   Winter Wyvern  Arc Warden  \n",
       "0              0           0  \n",
       "1              0           0  \n",
       "2              0           0  \n",
       "3              0           0  \n",
       "4              0           0  \n",
       "\n",
       "[5 rows x 117 columns]"
      ]
     },
     "execution_count": 4,
     "metadata": {},
     "output_type": "execute_result"
    }
   ],
   "source": [
    "raw_data_train.head()"
   ]
  },
  {
   "cell_type": "markdown",
   "metadata": {},
   "source": [
    "##### Drop label columns and other non-relevent column"
   ]
  },
  {
   "cell_type": "code",
   "execution_count": 5,
   "metadata": {},
   "outputs": [],
   "source": [
    "x_train = raw_data_train.drop([\"Won\", \"Cluster ID\"], axis=1)\n",
    "y_train = raw_data_train[\"Won\"]\n",
    "x_test = raw_data_test.drop([\"Won\", \"Cluster ID\"], axis=1)\n",
    "y_test = raw_data_test[\"Won\"]"
   ]
  },
  {
   "cell_type": "code",
   "execution_count": 6,
   "metadata": {},
   "outputs": [
    {
     "data": {
      "text/html": [
       "<div>\n",
       "<style scoped>\n",
       "    .dataframe tbody tr th:only-of-type {\n",
       "        vertical-align: middle;\n",
       "    }\n",
       "\n",
       "    .dataframe tbody tr th {\n",
       "        vertical-align: top;\n",
       "    }\n",
       "\n",
       "    .dataframe thead th {\n",
       "        text-align: right;\n",
       "    }\n",
       "</style>\n",
       "<table border=\"1\" class=\"dataframe\">\n",
       "  <thead>\n",
       "    <tr style=\"text-align: right;\">\n",
       "      <th></th>\n",
       "      <th>Game Mode</th>\n",
       "      <th>Game Type</th>\n",
       "      <th>Anti-Mage</th>\n",
       "      <th>Axe</th>\n",
       "      <th>Bane</th>\n",
       "      <th>Bloodseeker</th>\n",
       "      <th>Crystal Maiden</th>\n",
       "      <th>Drow Ranger</th>\n",
       "      <th>Earthshaker</th>\n",
       "      <th>Juggernaut</th>\n",
       "      <th>...</th>\n",
       "      <th>Legion Commander</th>\n",
       "      <th>Techies</th>\n",
       "      <th>Ember Spirit</th>\n",
       "      <th>Earth Spirit</th>\n",
       "      <th>Abyssal Underlord</th>\n",
       "      <th>Terrorblade</th>\n",
       "      <th>Phoenix</th>\n",
       "      <th>Oracle</th>\n",
       "      <th>Winter Wyvern</th>\n",
       "      <th>Arc Warden</th>\n",
       "    </tr>\n",
       "  </thead>\n",
       "  <tbody>\n",
       "    <tr>\n",
       "      <td>0</td>\n",
       "      <td>2</td>\n",
       "      <td>2</td>\n",
       "      <td>0</td>\n",
       "      <td>0</td>\n",
       "      <td>0</td>\n",
       "      <td>0</td>\n",
       "      <td>0</td>\n",
       "      <td>0</td>\n",
       "      <td>0</td>\n",
       "      <td>0</td>\n",
       "      <td>...</td>\n",
       "      <td>0</td>\n",
       "      <td>0</td>\n",
       "      <td>0</td>\n",
       "      <td>0</td>\n",
       "      <td>0</td>\n",
       "      <td>0</td>\n",
       "      <td>0</td>\n",
       "      <td>0</td>\n",
       "      <td>0</td>\n",
       "      <td>0</td>\n",
       "    </tr>\n",
       "    <tr>\n",
       "      <td>1</td>\n",
       "      <td>2</td>\n",
       "      <td>2</td>\n",
       "      <td>0</td>\n",
       "      <td>0</td>\n",
       "      <td>0</td>\n",
       "      <td>1</td>\n",
       "      <td>0</td>\n",
       "      <td>-1</td>\n",
       "      <td>0</td>\n",
       "      <td>0</td>\n",
       "      <td>...</td>\n",
       "      <td>0</td>\n",
       "      <td>0</td>\n",
       "      <td>0</td>\n",
       "      <td>0</td>\n",
       "      <td>0</td>\n",
       "      <td>0</td>\n",
       "      <td>0</td>\n",
       "      <td>0</td>\n",
       "      <td>0</td>\n",
       "      <td>0</td>\n",
       "    </tr>\n",
       "    <tr>\n",
       "      <td>2</td>\n",
       "      <td>2</td>\n",
       "      <td>2</td>\n",
       "      <td>0</td>\n",
       "      <td>0</td>\n",
       "      <td>0</td>\n",
       "      <td>1</td>\n",
       "      <td>0</td>\n",
       "      <td>-1</td>\n",
       "      <td>0</td>\n",
       "      <td>0</td>\n",
       "      <td>...</td>\n",
       "      <td>0</td>\n",
       "      <td>0</td>\n",
       "      <td>0</td>\n",
       "      <td>0</td>\n",
       "      <td>0</td>\n",
       "      <td>0</td>\n",
       "      <td>0</td>\n",
       "      <td>0</td>\n",
       "      <td>0</td>\n",
       "      <td>0</td>\n",
       "    </tr>\n",
       "    <tr>\n",
       "      <td>3</td>\n",
       "      <td>2</td>\n",
       "      <td>2</td>\n",
       "      <td>0</td>\n",
       "      <td>0</td>\n",
       "      <td>0</td>\n",
       "      <td>0</td>\n",
       "      <td>0</td>\n",
       "      <td>0</td>\n",
       "      <td>-1</td>\n",
       "      <td>0</td>\n",
       "      <td>...</td>\n",
       "      <td>-1</td>\n",
       "      <td>0</td>\n",
       "      <td>0</td>\n",
       "      <td>0</td>\n",
       "      <td>0</td>\n",
       "      <td>0</td>\n",
       "      <td>0</td>\n",
       "      <td>0</td>\n",
       "      <td>0</td>\n",
       "      <td>0</td>\n",
       "    </tr>\n",
       "    <tr>\n",
       "      <td>4</td>\n",
       "      <td>2</td>\n",
       "      <td>3</td>\n",
       "      <td>0</td>\n",
       "      <td>0</td>\n",
       "      <td>0</td>\n",
       "      <td>0</td>\n",
       "      <td>0</td>\n",
       "      <td>-1</td>\n",
       "      <td>0</td>\n",
       "      <td>0</td>\n",
       "      <td>...</td>\n",
       "      <td>0</td>\n",
       "      <td>0</td>\n",
       "      <td>0</td>\n",
       "      <td>0</td>\n",
       "      <td>0</td>\n",
       "      <td>0</td>\n",
       "      <td>0</td>\n",
       "      <td>0</td>\n",
       "      <td>0</td>\n",
       "      <td>0</td>\n",
       "    </tr>\n",
       "  </tbody>\n",
       "</table>\n",
       "<p>5 rows × 115 columns</p>\n",
       "</div>"
      ],
      "text/plain": [
       "   Game Mode  Game Type  Anti-Mage  Axe  Bane  Bloodseeker  Crystal Maiden  \\\n",
       "0          2          2          0    0     0            0               0   \n",
       "1          2          2          0    0     0            1               0   \n",
       "2          2          2          0    0     0            1               0   \n",
       "3          2          2          0    0     0            0               0   \n",
       "4          2          3          0    0     0            0               0   \n",
       "\n",
       "   Drow Ranger  Earthshaker  Juggernaut  ...  Legion Commander  Techies  \\\n",
       "0            0            0           0  ...                 0        0   \n",
       "1           -1            0           0  ...                 0        0   \n",
       "2           -1            0           0  ...                 0        0   \n",
       "3            0           -1           0  ...                -1        0   \n",
       "4           -1            0           0  ...                 0        0   \n",
       "\n",
       "   Ember Spirit  Earth Spirit  Abyssal Underlord  Terrorblade  Phoenix  \\\n",
       "0             0             0                  0            0        0   \n",
       "1             0             0                  0            0        0   \n",
       "2             0             0                  0            0        0   \n",
       "3             0             0                  0            0        0   \n",
       "4             0             0                  0            0        0   \n",
       "\n",
       "   Oracle  Winter Wyvern  Arc Warden  \n",
       "0       0              0           0  \n",
       "1       0              0           0  \n",
       "2       0              0           0  \n",
       "3       0              0           0  \n",
       "4       0              0           0  \n",
       "\n",
       "[5 rows x 115 columns]"
      ]
     },
     "execution_count": 6,
     "metadata": {},
     "output_type": "execute_result"
    }
   ],
   "source": [
    "x_train.head()"
   ]
  },
  {
   "cell_type": "code",
   "execution_count": 7,
   "metadata": {},
   "outputs": [
    {
     "data": {
      "text/plain": [
       "0   -1\n",
       "1    1\n",
       "2    1\n",
       "3    1\n",
       "4   -1\n",
       "Name: Won, dtype: int64"
      ]
     },
     "execution_count": 7,
     "metadata": {},
     "output_type": "execute_result"
    }
   ],
   "source": [
    "y_train.head()"
   ]
  },
  {
   "cell_type": "code",
   "execution_count": 8,
   "metadata": {},
   "outputs": [
    {
     "name": "stdout",
     "output_type": "stream",
     "text": [
      "<class 'pandas.core.frame.DataFrame'>\n",
      "RangeIndex: 92650 entries, 0 to 92649\n",
      "Columns: 115 entries, Game Mode to Arc Warden\n",
      "dtypes: int64(115)\n",
      "memory usage: 81.3 MB\n"
     ]
    }
   ],
   "source": [
    "x_train.info()"
   ]
  },
  {
   "cell_type": "code",
   "execution_count": 9,
   "metadata": {},
   "outputs": [
    {
     "data": {
      "text/html": [
       "<div>\n",
       "<style scoped>\n",
       "    .dataframe tbody tr th:only-of-type {\n",
       "        vertical-align: middle;\n",
       "    }\n",
       "\n",
       "    .dataframe tbody tr th {\n",
       "        vertical-align: top;\n",
       "    }\n",
       "\n",
       "    .dataframe thead th {\n",
       "        text-align: right;\n",
       "    }\n",
       "</style>\n",
       "<table border=\"1\" class=\"dataframe\">\n",
       "  <thead>\n",
       "    <tr style=\"text-align: right;\">\n",
       "      <th></th>\n",
       "      <th>Game Mode</th>\n",
       "      <th>Game Type</th>\n",
       "      <th>Anti-Mage</th>\n",
       "      <th>Axe</th>\n",
       "      <th>Bane</th>\n",
       "      <th>Bloodseeker</th>\n",
       "      <th>Crystal Maiden</th>\n",
       "      <th>Drow Ranger</th>\n",
       "      <th>Earthshaker</th>\n",
       "      <th>Juggernaut</th>\n",
       "      <th>...</th>\n",
       "      <th>Legion Commander</th>\n",
       "      <th>Techies</th>\n",
       "      <th>Ember Spirit</th>\n",
       "      <th>Earth Spirit</th>\n",
       "      <th>Abyssal Underlord</th>\n",
       "      <th>Terrorblade</th>\n",
       "      <th>Phoenix</th>\n",
       "      <th>Oracle</th>\n",
       "      <th>Winter Wyvern</th>\n",
       "      <th>Arc Warden</th>\n",
       "    </tr>\n",
       "  </thead>\n",
       "  <tbody>\n",
       "    <tr>\n",
       "      <td>count</td>\n",
       "      <td>92650.000000</td>\n",
       "      <td>92650.000000</td>\n",
       "      <td>92650.000000</td>\n",
       "      <td>92650.000000</td>\n",
       "      <td>92650.000000</td>\n",
       "      <td>92650.000000</td>\n",
       "      <td>92650.000000</td>\n",
       "      <td>92650.000000</td>\n",
       "      <td>92650.000000</td>\n",
       "      <td>92650.000000</td>\n",
       "      <td>...</td>\n",
       "      <td>92650.000000</td>\n",
       "      <td>92650.000000</td>\n",
       "      <td>92650.000000</td>\n",
       "      <td>92650.000000</td>\n",
       "      <td>92650.0</td>\n",
       "      <td>92650.000000</td>\n",
       "      <td>92650.000000</td>\n",
       "      <td>92650.000000</td>\n",
       "      <td>92650.000000</td>\n",
       "      <td>92650.000000</td>\n",
       "    </tr>\n",
       "    <tr>\n",
       "      <td>mean</td>\n",
       "      <td>3.317572</td>\n",
       "      <td>2.384587</td>\n",
       "      <td>-0.001630</td>\n",
       "      <td>-0.000971</td>\n",
       "      <td>0.000691</td>\n",
       "      <td>-0.000799</td>\n",
       "      <td>-0.002008</td>\n",
       "      <td>0.003173</td>\n",
       "      <td>-0.000345</td>\n",
       "      <td>-0.003832</td>\n",
       "      <td>...</td>\n",
       "      <td>-0.001371</td>\n",
       "      <td>-0.000950</td>\n",
       "      <td>0.000885</td>\n",
       "      <td>0.000594</td>\n",
       "      <td>0.0</td>\n",
       "      <td>0.001025</td>\n",
       "      <td>0.000648</td>\n",
       "      <td>-0.000227</td>\n",
       "      <td>-0.000043</td>\n",
       "      <td>0.000896</td>\n",
       "    </tr>\n",
       "    <tr>\n",
       "      <td>std</td>\n",
       "      <td>2.633070</td>\n",
       "      <td>0.486833</td>\n",
       "      <td>0.402004</td>\n",
       "      <td>0.467672</td>\n",
       "      <td>0.165052</td>\n",
       "      <td>0.355393</td>\n",
       "      <td>0.329348</td>\n",
       "      <td>0.483950</td>\n",
       "      <td>0.348865</td>\n",
       "      <td>0.501760</td>\n",
       "      <td>...</td>\n",
       "      <td>0.535024</td>\n",
       "      <td>0.206112</td>\n",
       "      <td>0.283985</td>\n",
       "      <td>0.155940</td>\n",
       "      <td>0.0</td>\n",
       "      <td>0.220703</td>\n",
       "      <td>0.204166</td>\n",
       "      <td>0.168707</td>\n",
       "      <td>0.189868</td>\n",
       "      <td>0.139033</td>\n",
       "    </tr>\n",
       "    <tr>\n",
       "      <td>min</td>\n",
       "      <td>1.000000</td>\n",
       "      <td>1.000000</td>\n",
       "      <td>-1.000000</td>\n",
       "      <td>-1.000000</td>\n",
       "      <td>-1.000000</td>\n",
       "      <td>-1.000000</td>\n",
       "      <td>-1.000000</td>\n",
       "      <td>-1.000000</td>\n",
       "      <td>-1.000000</td>\n",
       "      <td>-1.000000</td>\n",
       "      <td>...</td>\n",
       "      <td>-1.000000</td>\n",
       "      <td>-1.000000</td>\n",
       "      <td>-1.000000</td>\n",
       "      <td>-1.000000</td>\n",
       "      <td>0.0</td>\n",
       "      <td>-1.000000</td>\n",
       "      <td>-1.000000</td>\n",
       "      <td>-1.000000</td>\n",
       "      <td>-1.000000</td>\n",
       "      <td>-1.000000</td>\n",
       "    </tr>\n",
       "    <tr>\n",
       "      <td>25%</td>\n",
       "      <td>2.000000</td>\n",
       "      <td>2.000000</td>\n",
       "      <td>0.000000</td>\n",
       "      <td>0.000000</td>\n",
       "      <td>0.000000</td>\n",
       "      <td>0.000000</td>\n",
       "      <td>0.000000</td>\n",
       "      <td>0.000000</td>\n",
       "      <td>0.000000</td>\n",
       "      <td>0.000000</td>\n",
       "      <td>...</td>\n",
       "      <td>0.000000</td>\n",
       "      <td>0.000000</td>\n",
       "      <td>0.000000</td>\n",
       "      <td>0.000000</td>\n",
       "      <td>0.0</td>\n",
       "      <td>0.000000</td>\n",
       "      <td>0.000000</td>\n",
       "      <td>0.000000</td>\n",
       "      <td>0.000000</td>\n",
       "      <td>0.000000</td>\n",
       "    </tr>\n",
       "    <tr>\n",
       "      <td>50%</td>\n",
       "      <td>2.000000</td>\n",
       "      <td>2.000000</td>\n",
       "      <td>0.000000</td>\n",
       "      <td>0.000000</td>\n",
       "      <td>0.000000</td>\n",
       "      <td>0.000000</td>\n",
       "      <td>0.000000</td>\n",
       "      <td>0.000000</td>\n",
       "      <td>0.000000</td>\n",
       "      <td>0.000000</td>\n",
       "      <td>...</td>\n",
       "      <td>0.000000</td>\n",
       "      <td>0.000000</td>\n",
       "      <td>0.000000</td>\n",
       "      <td>0.000000</td>\n",
       "      <td>0.0</td>\n",
       "      <td>0.000000</td>\n",
       "      <td>0.000000</td>\n",
       "      <td>0.000000</td>\n",
       "      <td>0.000000</td>\n",
       "      <td>0.000000</td>\n",
       "    </tr>\n",
       "    <tr>\n",
       "      <td>75%</td>\n",
       "      <td>2.000000</td>\n",
       "      <td>3.000000</td>\n",
       "      <td>0.000000</td>\n",
       "      <td>0.000000</td>\n",
       "      <td>0.000000</td>\n",
       "      <td>0.000000</td>\n",
       "      <td>0.000000</td>\n",
       "      <td>0.000000</td>\n",
       "      <td>0.000000</td>\n",
       "      <td>0.000000</td>\n",
       "      <td>...</td>\n",
       "      <td>0.000000</td>\n",
       "      <td>0.000000</td>\n",
       "      <td>0.000000</td>\n",
       "      <td>0.000000</td>\n",
       "      <td>0.0</td>\n",
       "      <td>0.000000</td>\n",
       "      <td>0.000000</td>\n",
       "      <td>0.000000</td>\n",
       "      <td>0.000000</td>\n",
       "      <td>0.000000</td>\n",
       "    </tr>\n",
       "    <tr>\n",
       "      <td>max</td>\n",
       "      <td>9.000000</td>\n",
       "      <td>3.000000</td>\n",
       "      <td>1.000000</td>\n",
       "      <td>1.000000</td>\n",
       "      <td>1.000000</td>\n",
       "      <td>1.000000</td>\n",
       "      <td>1.000000</td>\n",
       "      <td>1.000000</td>\n",
       "      <td>1.000000</td>\n",
       "      <td>1.000000</td>\n",
       "      <td>...</td>\n",
       "      <td>1.000000</td>\n",
       "      <td>1.000000</td>\n",
       "      <td>1.000000</td>\n",
       "      <td>1.000000</td>\n",
       "      <td>0.0</td>\n",
       "      <td>1.000000</td>\n",
       "      <td>1.000000</td>\n",
       "      <td>1.000000</td>\n",
       "      <td>1.000000</td>\n",
       "      <td>1.000000</td>\n",
       "    </tr>\n",
       "  </tbody>\n",
       "</table>\n",
       "<p>8 rows × 115 columns</p>\n",
       "</div>"
      ],
      "text/plain": [
       "          Game Mode     Game Type     Anti-Mage           Axe          Bane  \\\n",
       "count  92650.000000  92650.000000  92650.000000  92650.000000  92650.000000   \n",
       "mean       3.317572      2.384587     -0.001630     -0.000971      0.000691   \n",
       "std        2.633070      0.486833      0.402004      0.467672      0.165052   \n",
       "min        1.000000      1.000000     -1.000000     -1.000000     -1.000000   \n",
       "25%        2.000000      2.000000      0.000000      0.000000      0.000000   \n",
       "50%        2.000000      2.000000      0.000000      0.000000      0.000000   \n",
       "75%        2.000000      3.000000      0.000000      0.000000      0.000000   \n",
       "max        9.000000      3.000000      1.000000      1.000000      1.000000   \n",
       "\n",
       "        Bloodseeker  Crystal Maiden   Drow Ranger   Earthshaker    Juggernaut  \\\n",
       "count  92650.000000    92650.000000  92650.000000  92650.000000  92650.000000   \n",
       "mean      -0.000799       -0.002008      0.003173     -0.000345     -0.003832   \n",
       "std        0.355393        0.329348      0.483950      0.348865      0.501760   \n",
       "min       -1.000000       -1.000000     -1.000000     -1.000000     -1.000000   \n",
       "25%        0.000000        0.000000      0.000000      0.000000      0.000000   \n",
       "50%        0.000000        0.000000      0.000000      0.000000      0.000000   \n",
       "75%        0.000000        0.000000      0.000000      0.000000      0.000000   \n",
       "max        1.000000        1.000000      1.000000      1.000000      1.000000   \n",
       "\n",
       "       ...  Legion Commander       Techies  Ember Spirit  Earth Spirit  \\\n",
       "count  ...      92650.000000  92650.000000  92650.000000  92650.000000   \n",
       "mean   ...         -0.001371     -0.000950      0.000885      0.000594   \n",
       "std    ...          0.535024      0.206112      0.283985      0.155940   \n",
       "min    ...         -1.000000     -1.000000     -1.000000     -1.000000   \n",
       "25%    ...          0.000000      0.000000      0.000000      0.000000   \n",
       "50%    ...          0.000000      0.000000      0.000000      0.000000   \n",
       "75%    ...          0.000000      0.000000      0.000000      0.000000   \n",
       "max    ...          1.000000      1.000000      1.000000      1.000000   \n",
       "\n",
       "       Abyssal Underlord   Terrorblade       Phoenix        Oracle  \\\n",
       "count            92650.0  92650.000000  92650.000000  92650.000000   \n",
       "mean                 0.0      0.001025      0.000648     -0.000227   \n",
       "std                  0.0      0.220703      0.204166      0.168707   \n",
       "min                  0.0     -1.000000     -1.000000     -1.000000   \n",
       "25%                  0.0      0.000000      0.000000      0.000000   \n",
       "50%                  0.0      0.000000      0.000000      0.000000   \n",
       "75%                  0.0      0.000000      0.000000      0.000000   \n",
       "max                  0.0      1.000000      1.000000      1.000000   \n",
       "\n",
       "       Winter Wyvern    Arc Warden  \n",
       "count   92650.000000  92650.000000  \n",
       "mean       -0.000043      0.000896  \n",
       "std         0.189868      0.139033  \n",
       "min        -1.000000     -1.000000  \n",
       "25%         0.000000      0.000000  \n",
       "50%         0.000000      0.000000  \n",
       "75%         0.000000      0.000000  \n",
       "max         1.000000      1.000000  \n",
       "\n",
       "[8 rows x 115 columns]"
      ]
     },
     "execution_count": 9,
     "metadata": {},
     "output_type": "execute_result"
    }
   ],
   "source": [
    "x_train.describe()"
   ]
  },
  {
   "cell_type": "markdown",
   "metadata": {},
   "source": [
    "### 1st Attempt with SVM\n",
    "\n",
    "Build a model using linear SVC with defaults hyperparameters.  \n",
    "CalibratedClassifierCV is used in conjunction with LinearSVC in order to calculate predication probability"
   ]
  },
  {
   "cell_type": "code",
   "execution_count": 10,
   "metadata": {},
   "outputs": [
    {
     "data": {
      "text/plain": [
       "CalibratedClassifierCV(base_estimator=LinearSVC(C=1.0, class_weight=None,\n",
       "                                                dual=True, fit_intercept=True,\n",
       "                                                intercept_scaling=1,\n",
       "                                                loss='squared_hinge',\n",
       "                                                max_iter=1500,\n",
       "                                                multi_class='ovr', penalty='l2',\n",
       "                                                random_state=42, tol=0.0001,\n",
       "                                                verbose=False),\n",
       "                       cv=5, method='sigmoid')"
      ]
     },
     "execution_count": 10,
     "metadata": {},
     "output_type": "execute_result"
    }
   ],
   "source": [
    "cal_svc = CalibratedClassifierCV(\n",
    "    base_estimator=LinearSVC(random_state=42, C=1.0, max_iter=1500, verbose=False),\n",
    "    method='sigmoid', cv=5)\n",
    "cal_svc.fit(x_train, y_train)"
   ]
  },
  {
   "cell_type": "markdown",
   "metadata": {},
   "source": [
    "##### Prediction and show metrics"
   ]
  },
  {
   "cell_type": "code",
   "execution_count": 11,
   "metadata": {},
   "outputs": [
    {
     "name": "stdout",
     "output_type": "stream",
     "text": [
      "[[2470 2322]\n",
      " [1819 3683]]\n",
      "              precision    recall  f1-score   support\n",
      "\n",
      "          -1       0.58      0.52      0.54      4792\n",
      "           1       0.61      0.67      0.64      5502\n",
      "\n",
      "    accuracy                           0.60     10294\n",
      "   macro avg       0.59      0.59      0.59     10294\n",
      "weighted avg       0.60      0.60      0.60     10294\n",
      "\n"
     ]
    }
   ],
   "source": [
    "y_pred = cal_svc.predict(x_test)\n",
    "print(metrics.confusion_matrix(y_test, y_pred))\n",
    "print(metrics.classification_report(y_test, y_pred))"
   ]
  },
  {
   "cell_type": "code",
   "execution_count": 12,
   "metadata": {},
   "outputs": [
    {
     "name": "stdout",
     "output_type": "stream",
     "text": [
      "Accuracy:  0.5977268311637848\n"
     ]
    }
   ],
   "source": [
    "print(\"Accuracy: \", metrics.accuracy_score(y_test, y_pred))"
   ]
  },
  {
   "cell_type": "code",
   "execution_count": 13,
   "metadata": {},
   "outputs": [
    {
     "data": {
      "image/png": "[encoded data removed]",
      "text/plain": [
       "<Figure size 432x288 with 1 Axes>"
      ]
     },
     "metadata": {
      "needs_background": "light"
     },
     "output_type": "display_data"
    }
   ],
   "source": [
    "y_pred_proba = cal_svc.predict_proba(x_test)[::,1]\n",
    "fpr, tpr, _ = metrics.roc_curve(y_test, y_pred_proba)\n",
    "auc = metrics.roc_auc_score(y_test, y_pred_proba)\n",
    "\n",
    "plt.plot(fpr, tpr, label=\"SVC, auc= \" + str(auc))\n",
    "plt.plot([0,1],[0,1],'k--')\n",
    "plt.legend(loc=4)\n",
    "plt.show()"
   ]
  },
  {
   "cell_type": "code",
   "execution_count": null,
   "metadata": {},
   "outputs": [],
   "source": []
  },
  {
   "cell_type": "markdown",
   "metadata": {},
   "source": [
    "### 1st attempt summary\n",
    "\n",
    "Using the LinearSVC classifier with default settings on the dataset, accuracy achieved is just 59%"
   ]
  },
  {
   "cell_type": "code",
   "execution_count": null,
   "metadata": {},
   "outputs": [],
   "source": []
  },
  {
   "cell_type": "markdown",
   "metadata": {},
   "source": [
    "### 2nd attempt\n",
    "\n",
    "Apply preprocessing to scale the data range before training again."
   ]
  },
  {
   "cell_type": "code",
   "execution_count": 23,
   "metadata": {},
   "outputs": [],
   "source": [
    "scale_pipe = Pipeline([\n",
    "    ('minmaxscale', MinMaxScaler()),\n",
    "    ('cal_linsvc', CalibratedClassifierCV(\n",
    "        base_estimator=LinearSVC(random_state=42, C=1.0, max_iter=1500, verbose=False),\n",
    "        cv=5, method='sigmoid'))\n",
    "])"
   ]
  },
  {
   "cell_type": "code",
   "execution_count": 16,
   "metadata": {},
   "outputs": [
    {
     "data": {
      "text/plain": [
       "Pipeline(memory=None,\n",
       "         steps=[('minmaxscale', MinMaxScaler(copy=True, feature_range=(0, 1))),\n",
       "                ('cal_linsvc',\n",
       "                 CalibratedClassifierCV(base_estimator=LinearSVC(C=1.0,\n",
       "                                                                 class_weight=None,\n",
       "                                                                 dual=True,\n",
       "                                                                 fit_intercept=True,\n",
       "                                                                 intercept_scaling=1,\n",
       "                                                                 loss='squared_hinge',\n",
       "                                                                 max_iter=1500,\n",
       "                                                                 multi_class='ovr',\n",
       "                                                                 penalty='l2',\n",
       "                                                                 random_state=42,\n",
       "                                                                 tol=0.0001,\n",
       "                                                                 verbose=False),\n",
       "                                        cv=5, method='sigmoid'))],\n",
       "         verbose=False)"
      ]
     },
     "execution_count": 16,
     "metadata": {},
     "output_type": "execute_result"
    }
   ],
   "source": [
    "scale_pipe.fit(x_train, y_train)"
   ]
  },
  {
   "cell_type": "code",
   "execution_count": 17,
   "metadata": {},
   "outputs": [
    {
     "name": "stdout",
     "output_type": "stream",
     "text": [
      "[[1424 3368]\n",
      " [ 844 4658]]\n",
      "              precision    recall  f1-score   support\n",
      "\n",
      "          -1       0.63      0.30      0.40      4792\n",
      "           1       0.58      0.85      0.69      5502\n",
      "\n",
      "    accuracy                           0.59     10294\n",
      "   macro avg       0.60      0.57      0.55     10294\n",
      "weighted avg       0.60      0.59      0.56     10294\n",
      "\n"
     ]
    }
   ],
   "source": [
    "x_test_scale = MinMaxScaler().fit_transform(x_test)\n",
    "y_pred = scale_pipe.predict(x_test_scale)\n",
    "print(metrics.confusion_matrix(y_test, y_pred))\n",
    "print(metrics.classification_report(y_test, y_pred))"
   ]
  },
  {
   "cell_type": "code",
   "execution_count": 18,
   "metadata": {},
   "outputs": [
    {
     "name": "stdout",
     "output_type": "stream",
     "text": [
      "Accuracy:  0.5908296094812512\n"
     ]
    }
   ],
   "source": [
    "print(\"Accuracy: \", metrics.accuracy_score(y_test, y_pred))"
   ]
  },
  {
   "cell_type": "code",
   "execution_count": 19,
   "metadata": {},
   "outputs": [
    {
     "data": {
      "image/png": "[encoded data removed]",
      "text/plain": [
       "<Figure size 432x288 with 1 Axes>"
      ]
     },
     "metadata": {
      "needs_background": "light"
     },
     "output_type": "display_data"
    }
   ],
   "source": [
    "y_pred_proba = scale_pipe.predict_proba(x_test_scale)[::,1]\n",
    "fpr, tpr, _ = metrics.roc_curve(y_test, y_pred_proba)\n",
    "auc = metrics.roc_auc_score(y_test, y_pred_proba)\n",
    "\n",
    "plt.plot(fpr, tpr, label=\"SVC, auc= \" + str(auc))\n",
    "plt.plot([0,1],[0,1],'k--')\n",
    "plt.legend(loc=4)\n",
    "plt.show()"
   ]
  },
  {
   "cell_type": "markdown",
   "metadata": {},
   "source": [
    "### 2nd attempt summary\n",
    "\n",
    "Results is slightly degraded with normalization preprocessing, and accuracy remains at 59%"
   ]
  },
  {
   "cell_type": "code",
   "execution_count": null,
   "metadata": {},
   "outputs": [],
   "source": []
  },
  {
   "cell_type": "markdown",
   "metadata": {},
   "source": [
    "### 3rd attempt\n",
    "\n",
    "As there are too many features, try to reduce dimension with PCA first.  \n",
    "Use Minke's 'MLE' option to determine C value"
   ]
  },
  {
   "cell_type": "code",
   "execution_count": 31,
   "metadata": {},
   "outputs": [],
   "source": [
    "pca_scale_pipe = Pipeline([\n",
    "    ('minmaxscale', MinMaxScaler()),\n",
    "    ('pca', PCA(n_components='mle')),\n",
    "    ('cal_linsvc', CalibratedClassifierCV(\n",
    "        base_estimator=LinearSVC(random_state=42, C=1.0, max_iter=1500, verbose=False),\n",
    "        cv=5, method='sigmoid'))\n",
    "])"
   ]
  },
  {
   "cell_type": "code",
   "execution_count": 32,
   "metadata": {},
   "outputs": [
    {
     "data": {
      "text/plain": [
       "Pipeline(memory=None,\n",
       "         steps=[('minmaxscale', MinMaxScaler(copy=True, feature_range=(0, 1))),\n",
       "                ('pca',\n",
       "                 PCA(copy=True, iterated_power='auto', n_components='mle',\n",
       "                     random_state=None, svd_solver='auto', tol=0.0,\n",
       "                     whiten=False)),\n",
       "                ('cal_linsvc',\n",
       "                 CalibratedClassifierCV(base_estimator=LinearSVC(C=1.0,\n",
       "                                                                 class_weight=None,\n",
       "                                                                 dual=True,\n",
       "                                                                 fit_intercept=True,\n",
       "                                                                 intercept_scaling=1,\n",
       "                                                                 loss='squared_hinge',\n",
       "                                                                 max_iter=1500,\n",
       "                                                                 multi_class='ovr',\n",
       "                                                                 penalty='l2',\n",
       "                                                                 random_state=42,\n",
       "                                                                 tol=0.0001,\n",
       "                                                                 verbose=False),\n",
       "                                        cv=5, method='sigmoid'))],\n",
       "         verbose=False)"
      ]
     },
     "execution_count": 32,
     "metadata": {},
     "output_type": "execute_result"
    }
   ],
   "source": [
    "pca_scale_pipe.fit(x_train, y_train)"
   ]
  },
  {
   "cell_type": "code",
   "execution_count": 36,
   "metadata": {},
   "outputs": [
    {
     "name": "stdout",
     "output_type": "stream",
     "text": [
      "[[1857 2935]\n",
      " [1241 4261]]\n",
      "              precision    recall  f1-score   support\n",
      "\n",
      "          -1       0.60      0.39      0.47      4792\n",
      "           1       0.59      0.77      0.67      5502\n",
      "\n",
      "    accuracy                           0.59     10294\n",
      "   macro avg       0.60      0.58      0.57     10294\n",
      "weighted avg       0.60      0.59      0.58     10294\n",
      "\n"
     ]
    }
   ],
   "source": [
    "y_pred = pca_scale_pipe.predict(x_test_scale)\n",
    "print(metrics.confusion_matrix(y_test, y_pred))\n",
    "print(metrics.classification_report(y_test, y_pred))"
   ]
  },
  {
   "cell_type": "code",
   "execution_count": 37,
   "metadata": {},
   "outputs": [
    {
     "name": "stdout",
     "output_type": "stream",
     "text": [
      "Accuracy:  0.5943267923061978\n"
     ]
    }
   ],
   "source": [
    "print(\"Accuracy: \", metrics.accuracy_score(y_test, y_pred))"
   ]
  },
  {
   "cell_type": "code",
   "execution_count": 38,
   "metadata": {},
   "outputs": [
    {
     "data": {
      "image/png": "[encoded data removed]",
      "text/plain": [
       "<Figure size 432x288 with 1 Axes>"
      ]
     },
     "metadata": {
      "needs_background": "light"
     },
     "output_type": "display_data"
    }
   ],
   "source": [
    "y_pred_proba = pca_scale_pipe.predict_proba(x_test_scale)[::,1]\n",
    "fpr, tpr, _ = metrics.roc_curve(y_test, y_pred_proba)\n",
    "auc = metrics.roc_auc_score(y_test, y_pred_proba)\n",
    "\n",
    "plt.plot(fpr, tpr, label=\"SVC, auc= \" + str(auc))\n",
    "plt.plot([0,1],[0,1],'k--')\n",
    "plt.legend(loc=4)\n",
    "plt.show()"
   ]
  },
  {
   "cell_type": "markdown",
   "metadata": {},
   "source": [
    "### 2nd attempt summary\n",
    "\n",
    "After applying PCA, we see accuracy drops slightly from 59.8% to 59.4%"
   ]
  },
  {
   "cell_type": "code",
   "execution_count": null,
   "metadata": {},
   "outputs": [],
   "source": []
  },
  {
   "cell_type": "markdown",
   "metadata": {},
   "source": [
    "### 3rd attempt\n",
    "\n",
    "Drop PCA and try to tune the hyper parameter with grid search"
   ]
  },
  {
   "cell_type": "code",
   "execution_count": 61,
   "metadata": {},
   "outputs": [],
   "source": [
    "params = {\n",
    "    'cal_linsvc__base_estimator__loss': ('hinge', 'squared_hinge'),\n",
    "    'cal_linsvc__base_estimator__C': [1.0, 10, 100],\n",
    "    'cal_linsvc__base_estimator__max_iter': [1000, 3000, 5000]\n",
    "}"
   ]
  },
  {
   "cell_type": "code",
   "execution_count": 64,
   "metadata": {},
   "outputs": [],
   "source": [
    "gs_scale_pipe = Pipeline([\n",
    "    ('minmaxscale', MinMaxScaler()),\n",
    "    ('cal_linsvc', CalibratedClassifierCV(\n",
    "        base_estimator=LinearSVC(random_state=42, verbose=True),\n",
    "        cv=5, method='sigmoid'))\n",
    "])\n",
    "gs = GridSearchCV(gs_scale_pipe, param_grid=params, n_jobs=4, cv=10)"
   ]
  },
  {
   "cell_type": "code",
   "execution_count": null,
   "metadata": {},
   "outputs": [],
   "source": [
    "gs_scale_svc = gs.fit(x_train, y_train)"
   ]
  },
  {
   "cell_type": "code",
   "execution_count": 49,
   "metadata": {},
   "outputs": [
    {
     "ename": "NameError",
     "evalue": "name 'cal_svc_norm' is not defined",
     "output_type": "error",
     "traceback": [
      "\u001b[1;31m---------------------------------------------------------------------------\u001b[0m",
      "\u001b[1;31mNameError\u001b[0m                                 Traceback (most recent call last)",
      "\u001b[1;32m<ipython-input-49-2e329ca30711>\u001b[0m in \u001b[0;36m<module>\u001b[1;34m\u001b[0m\n\u001b[1;32m----> 1\u001b[1;33m \u001b[0mbestParam\u001b[0m \u001b[1;33m=\u001b[0m \u001b[0mcal_svc_norm\u001b[0m\u001b[1;33m.\u001b[0m\u001b[0mcalibrated_classifiers_\u001b[0m\u001b[1;33m[\u001b[0m\u001b[1;36m0\u001b[0m\u001b[1;33m]\u001b[0m\u001b[1;33m.\u001b[0m\u001b[0mbase_estimator\u001b[0m\u001b[1;33m.\u001b[0m\u001b[0mbest_params_\u001b[0m\u001b[1;33m\u001b[0m\u001b[1;33m\u001b[0m\u001b[0m\n\u001b[0m\u001b[0;32m      2\u001b[0m \u001b[0mbestEstimator\u001b[0m \u001b[1;33m=\u001b[0m \u001b[0mcal_svc_norm\u001b[0m\u001b[1;33m.\u001b[0m\u001b[0mcalibrated_classifiers_\u001b[0m\u001b[1;33m[\u001b[0m\u001b[1;36m0\u001b[0m\u001b[1;33m]\u001b[0m\u001b[1;33m.\u001b[0m\u001b[0mbase_estimator\u001b[0m\u001b[1;33m.\u001b[0m\u001b[0mbest_estimator_\u001b[0m\u001b[1;33m\u001b[0m\u001b[1;33m\u001b[0m\u001b[0m\n\u001b[0;32m      3\u001b[0m \u001b[0mprint\u001b[0m\u001b[1;33m(\u001b[0m\u001b[1;34m\"Best set of parameters:\"\u001b[0m\u001b[1;33m)\u001b[0m\u001b[1;33m\u001b[0m\u001b[1;33m\u001b[0m\u001b[0m\n\u001b[0;32m      4\u001b[0m \u001b[0mprint\u001b[0m\u001b[1;33m(\u001b[0m\u001b[0mbestParam\u001b[0m\u001b[1;33m)\u001b[0m\u001b[1;33m\u001b[0m\u001b[1;33m\u001b[0m\u001b[0m\n",
      "\u001b[1;31mNameError\u001b[0m: name 'cal_svc_norm' is not defined"
     ]
    }
   ],
   "source": [
    "bestParam = gs_scale_svc.calibrated_classifiers_[0].base_estimator.best_params_\n",
    "bestEstimator = gs_scale_svc.calibrated_classifiers_[0].base_estimator.best_estimator_\n",
    "print(\"Best set of parameters:\")\n",
    "print(bestParam)"
   ]
  },
  {
   "cell_type": "code",
   "execution_count": null,
   "metadata": {},
   "outputs": [],
   "source": [
    "y_pred = bestEstimator.predict(x_test)\n",
    "print(metrics.confusion_matrix(y_test, y_pred))\n",
    "print(metrics.classification_report(y_test, y_pred))"
   ]
  },
  {
   "cell_type": "code",
   "execution_count": null,
   "metadata": {},
   "outputs": [],
   "source": [
    "print(\"Accuracy: \", metrics.accuracy_score(y_test, y_pred))"
   ]
  },
  {
   "cell_type": "code",
   "execution_count": null,
   "metadata": {},
   "outputs": [],
   "source": [
    "y_pred_proba = gs_scale_svc.calibrated_classifiers_[0].predict_proba(x_test)[::,1]\n",
    "fpr, tpr, _ = metrics.roc_curve(y_test, y_pred_proba)\n",
    "auc = metrics.roc_auc_score(y_test, y_pred_proba)\n",
    "\n",
    "plt.plot(fpr, tpr, label=\"SVC, auc= \" + str(auc))\n",
    "plt.plot([0,1],[0,1],'k--')\n",
    "plt.legend(loc=4)\n",
    "plt.show()"
   ]
  },
  {
   "cell_type": "markdown",
   "metadata": {},
   "source": [
    "### 3rd attempt summary"
   ]
  },
  {
   "cell_type": "code",
   "execution_count": null,
   "metadata": {},
   "outputs": [],
   "source": []
  },
  {
   "cell_type": "markdown",
   "metadata": {},
   "source": [
    "### 4th attempt\n",
    "\n",
    "Use OveVsRestClassifier"
   ]
  },
  {
   "cell_type": "code",
   "execution_count": 47,
   "metadata": {},
   "outputs": [],
   "source": [
    "# param_grid = dict(estimator__estimator__C = [0.01, 0.05, 0.1, 0.5, 1.0, 5, 10, 15, 20],\n",
    "#                  estimator__estimator__max_iter = [500, 1000, 5000, 10000],\n",
    "#                  estimator__estimator__class_weight= ('balanced', 'auto'))"
   ]
  },
  {
   "cell_type": "code",
   "execution_count": 48,
   "metadata": {},
   "outputs": [],
   "source": [
    "# svr = OneVsRestClassifier(\n",
    "#     BaggingClassifier(\n",
    "#         CalibratedClassifierCV(\n",
    "#             base_estimator=LinearSVC(\n",
    "#                 random_state=42, \n",
    "#                 class_weight='balanced', \n",
    "#                 verbose=False, \n",
    "#                 fit_intercept='False',\n",
    "#                 C=100,\n",
    "#                 max_iter=1000),\n",
    "#         method='isotonic', cv=15)\n",
    "#     ), n_jobs=-1\n",
    "# )\n",
    "    \n",
    "# gs = GridSearchCV(svr, param_grid, n_jobs=-1, verbose=2, cv=15)"
   ]
  },
  {
   "cell_type": "code",
   "execution_count": 49,
   "metadata": {},
   "outputs": [],
   "source": [
    "# svr.fit(x_train_norm, y_train)"
   ]
  },
  {
   "cell_type": "code",
   "execution_count": 50,
   "metadata": {},
   "outputs": [],
   "source": [
    "# y_pred = gs.predict(x_test)\n",
    "# print(metrics.confusion_matrix(y_test, y_pred))\n",
    "# print(metrics.classification_report(y_test, y_pred))"
   ]
  },
  {
   "cell_type": "code",
   "execution_count": 51,
   "metadata": {},
   "outputs": [],
   "source": [
    "# print(\"Accuracy: \", metrics.accuracy_score(y_test, y_pred))"
   ]
  },
  {
   "cell_type": "code",
   "execution_count": 52,
   "metadata": {},
   "outputs": [],
   "source": [
    "# y_pred_proba = gs.predict_proba(x_test)[::,1]\n",
    "# fpr, tpr, _ = metrics.roc_curve(y_test, y_pred_proba)\n",
    "# auc = metrics.roc_auc_score(y_test, y_pred_proba)\n",
    "\n",
    "# plt.plot(fpr, tpr, label=\"SVC, auc= \" + str(auc))\n",
    "# plt.plot([0,1],[0,1],'k--')\n",
    "# plt.legend(loc=4)\n",
    "# plt.show()"
   ]
  },
  {
   "cell_type": "code",
   "execution_count": 10,
   "metadata": {},
   "outputs": [],
   "source": [
    "N_FEATURES_OPTIONS = [2, 3, 4, 5, 6, 7, 8, 9, 10]\n",
    "C_OPTIONS = [0.1, 1, 10, 100, 1000]\n",
    "MAX_ITER_OPTIONS = [1000, 5000, 10000, 50000]"
   ]
  },
  {
   "cell_type": "code",
   "execution_count": 27,
   "metadata": {},
   "outputs": [],
   "source": [
    "pipe = Pipeline([\n",
    "    ('pca', PCA(iterated_power=9)),\n",
    "    ('svm', SVC(random_state=42, verbose=False, kernel='linear', probability=True))\n",
    "])\n",
    "\n",
    "param_grid = [\n",
    "    {\n",
    "        'pca__n_components': N_FEATURES_OPTIONS,\n",
    "        'svm__C': C_OPTIONS,\n",
    "        'svm__max_iter': MAX_ITER_OPTIONS\n",
    "    }\n",
    "]"
   ]
  },
  {
   "cell_type": "code",
   "execution_count": 28,
   "metadata": {},
   "outputs": [],
   "source": [
    "grid = GridSearchCV(pipe, cv=10, n_jobs=-1, param_grid=param_grid)"
   ]
  },
  {
   "cell_type": "code",
   "execution_count": null,
   "metadata": {},
   "outputs": [],
   "source": [
    "grid.fit(x_train_norm, y_train)"
   ]
  },
  {
   "cell_type": "code",
   "execution_count": null,
   "metadata": {},
   "outputs": [],
   "source": [
    "mean_scores = np.array(grid.cv_results_['mean_test_score'])\n",
    "# scores are in the order of param_grid iteration, which is alphabetical\n",
    "mean_scores = mean_scores.reshape(len(C_OPTIONS), -1, len(N_FEATURES_OPTIONS))\n",
    "# select score for best C\n",
    "mean_scores = mean_scores.max(axis=0)\n",
    "print(mean_scores)"
   ]
  },
  {
   "cell_type": "code",
   "execution_count": null,
   "metadata": {},
   "outputs": [],
   "source": []
  },
  {
   "cell_type": "code",
   "execution_count": null,
   "metadata": {},
   "outputs": [],
   "source": []
  }
 ],
 "metadata": {
  "kernelspec": {
   "display_name": "Python 3",
   "language": "python",
   "name": "python3"
  },
  "language_info": {
   "codemirror_mode": {
    "name": "ipython",
    "version": 3
   },
   "file_extension": ".py",
   "mimetype": "text/x-python",
   "name": "python",
   "nbconvert_exporter": "python",
   "pygments_lexer": "ipython3",
   "version": "3.6.7"
  }
 },
 "nbformat": 4,
 "nbformat_minor": 4
}
