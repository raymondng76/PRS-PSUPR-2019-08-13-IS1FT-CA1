{
 "cells": [
  {
   "cell_type": "markdown",
   "metadata": {},
   "source": [
    "# ISY5002 PSUPR/PRMLS CA1\n",
    "### Dataset is sourced from https://www.kaggle.com/devinanzelmo/dota-2-matches\n",
    "\n"
   ]
  },
  {
   "cell_type": "markdown",
   "metadata": {},
   "source": [
    "##### Name: Raymond Ng Boon Cheong  \n",
    "##### Student ID: A0198543R"
   ]
  },
  {
   "cell_type": "markdown",
   "metadata": {},
   "source": [
    "##### Import dependencies"
   ]
  },
  {
   "cell_type": "code",
   "execution_count": 10,
   "metadata": {},
   "outputs": [],
   "source": [
    "import numpy as np\n",
    "import pandas as pd\n",
    "import matplotlib.pyplot as plt\n",
    "%matplotlib inline\n",
    "from scipy.stats import uniform, randint\n",
    "\n",
    "from sklearn.pipeline import Pipeline\n",
    "from sklearn.preprocessing import OrdinalEncoder, StandardScaler, Normalizer\n",
    "from sklearn.model_selection import train_test_split, RandomizedSearchCV, GridSearchCV, cross_val_predict\n",
    "from sklearn.svm import LinearSVC\n",
    "from sklearn.calibration import CalibratedClassifierCV\n",
    "from sklearn.ensemble import GradientBoostingClassifier\n",
    "from sklearn.neighbors import KNeighborsClassifier\n",
    "from sklearn.naive_bayes import GaussianNB\n",
    "from sklearn.decomposition import PCA\n",
    "from sklearn import metrics\n",
    "import time\n",
    "\n",
    "import warnings\n",
    "warnings.filterwarnings('ignore')"
   ]
  },
  {
   "cell_type": "code",
   "execution_count": 11,
   "metadata": {},
   "outputs": [],
   "source": [
    "def plot_learning_curve(estimator, title, X, y, ylim=None, cv=None,\n",
    "                        n_jobs=None, train_sizes=np.linspace(.1, 1.0, 5)):\n",
    "    plt.figure()\n",
    "    plt.title(title)\n",
    "    if ylim is not None:\n",
    "        plt.ylim(*ylim)\n",
    "    plt.xlabel(\"Training examples\")\n",
    "    plt.ylabel(\"Score\")\n",
    "    train_sizes, train_scores, test_scores = learning_curve(\n",
    "        estimator, X, y, cv=cv, n_jobs=n_jobs, train_sizes=train_sizes)\n",
    "    train_scores_mean = np.mean(train_scores, axis=1)\n",
    "    train_scores_std = np.std(train_scores, axis=1)\n",
    "    test_scores_mean = np.mean(test_scores, axis=1)\n",
    "    test_scores_std = np.std(test_scores, axis=1)\n",
    "    plt.grid()\n",
    "\n",
    "    plt.fill_between(train_sizes, train_scores_mean - train_scores_std,\n",
    "                     train_scores_mean + train_scores_std, alpha=0.1,\n",
    "                     color=\"r\")\n",
    "    plt.fill_between(train_sizes, test_scores_mean - test_scores_std,\n",
    "                     test_scores_mean + test_scores_std, alpha=0.1, color=\"g\")\n",
    "    plt.plot(train_sizes, train_scores_mean, 'o-', color=\"r\",\n",
    "             label=\"Training score\")\n",
    "    plt.plot(train_sizes, test_scores_mean, 'o-', color=\"g\",\n",
    "             label=\"Cross-validation score\")\n",
    "\n",
    "    plt.legend(loc=\"best\")\n",
    "    return plt"
   ]
  },
  {
   "cell_type": "code",
   "execution_count": 12,
   "metadata": {},
   "outputs": [],
   "source": [
    "heros = pd.read_csv('../dataset/hero_names.csv')\n",
    "matches = pd.read_csv('../dataset/match.csv')\n",
    "players = pd.read_csv('../dataset/players.csv')"
   ]
  },
  {
   "cell_type": "code",
   "execution_count": 13,
   "metadata": {},
   "outputs": [
    {
     "data": {
      "text/html": [
       "<div>\n",
       "<style scoped>\n",
       "    .dataframe tbody tr th:only-of-type {\n",
       "        vertical-align: middle;\n",
       "    }\n",
       "\n",
       "    .dataframe tbody tr th {\n",
       "        vertical-align: top;\n",
       "    }\n",
       "\n",
       "    .dataframe thead th {\n",
       "        text-align: right;\n",
       "    }\n",
       "</style>\n",
       "<table border=\"1\" class=\"dataframe\">\n",
       "  <thead>\n",
       "    <tr style=\"text-align: right;\">\n",
       "      <th></th>\n",
       "      <th>match_id</th>\n",
       "      <th>account_id</th>\n",
       "      <th>hero_id</th>\n",
       "      <th>player_slot</th>\n",
       "      <th>gold</th>\n",
       "      <th>gold_spent</th>\n",
       "      <th>gold_per_min</th>\n",
       "      <th>xp_per_min</th>\n",
       "      <th>kills</th>\n",
       "      <th>deaths</th>\n",
       "      <th>...</th>\n",
       "      <th>unit_order_glyph</th>\n",
       "      <th>unit_order_eject_item_from_stash</th>\n",
       "      <th>unit_order_cast_rune</th>\n",
       "      <th>unit_order_ping_ability</th>\n",
       "      <th>unit_order_move_to_direction</th>\n",
       "      <th>unit_order_patrol</th>\n",
       "      <th>unit_order_vector_target_position</th>\n",
       "      <th>unit_order_radar</th>\n",
       "      <th>unit_order_set_item_combine_lock</th>\n",
       "      <th>unit_order_continue</th>\n",
       "    </tr>\n",
       "  </thead>\n",
       "  <tbody>\n",
       "    <tr>\n",
       "      <td>0</td>\n",
       "      <td>0</td>\n",
       "      <td>0</td>\n",
       "      <td>86</td>\n",
       "      <td>0</td>\n",
       "      <td>3261</td>\n",
       "      <td>10960</td>\n",
       "      <td>347</td>\n",
       "      <td>362</td>\n",
       "      <td>9</td>\n",
       "      <td>3</td>\n",
       "      <td>...</td>\n",
       "      <td>NaN</td>\n",
       "      <td>NaN</td>\n",
       "      <td>NaN</td>\n",
       "      <td>6.0</td>\n",
       "      <td>NaN</td>\n",
       "      <td>NaN</td>\n",
       "      <td>NaN</td>\n",
       "      <td>NaN</td>\n",
       "      <td>NaN</td>\n",
       "      <td>NaN</td>\n",
       "    </tr>\n",
       "    <tr>\n",
       "      <td>1</td>\n",
       "      <td>0</td>\n",
       "      <td>1</td>\n",
       "      <td>51</td>\n",
       "      <td>1</td>\n",
       "      <td>2954</td>\n",
       "      <td>17760</td>\n",
       "      <td>494</td>\n",
       "      <td>659</td>\n",
       "      <td>13</td>\n",
       "      <td>3</td>\n",
       "      <td>...</td>\n",
       "      <td>NaN</td>\n",
       "      <td>NaN</td>\n",
       "      <td>NaN</td>\n",
       "      <td>14.0</td>\n",
       "      <td>NaN</td>\n",
       "      <td>NaN</td>\n",
       "      <td>NaN</td>\n",
       "      <td>NaN</td>\n",
       "      <td>NaN</td>\n",
       "      <td>NaN</td>\n",
       "    </tr>\n",
       "    <tr>\n",
       "      <td>2</td>\n",
       "      <td>0</td>\n",
       "      <td>0</td>\n",
       "      <td>83</td>\n",
       "      <td>2</td>\n",
       "      <td>110</td>\n",
       "      <td>12195</td>\n",
       "      <td>350</td>\n",
       "      <td>385</td>\n",
       "      <td>0</td>\n",
       "      <td>4</td>\n",
       "      <td>...</td>\n",
       "      <td>NaN</td>\n",
       "      <td>NaN</td>\n",
       "      <td>NaN</td>\n",
       "      <td>17.0</td>\n",
       "      <td>NaN</td>\n",
       "      <td>NaN</td>\n",
       "      <td>NaN</td>\n",
       "      <td>NaN</td>\n",
       "      <td>NaN</td>\n",
       "      <td>NaN</td>\n",
       "    </tr>\n",
       "    <tr>\n",
       "      <td>3</td>\n",
       "      <td>0</td>\n",
       "      <td>2</td>\n",
       "      <td>11</td>\n",
       "      <td>3</td>\n",
       "      <td>1179</td>\n",
       "      <td>22505</td>\n",
       "      <td>599</td>\n",
       "      <td>605</td>\n",
       "      <td>8</td>\n",
       "      <td>4</td>\n",
       "      <td>...</td>\n",
       "      <td>1.0</td>\n",
       "      <td>NaN</td>\n",
       "      <td>NaN</td>\n",
       "      <td>13.0</td>\n",
       "      <td>NaN</td>\n",
       "      <td>NaN</td>\n",
       "      <td>NaN</td>\n",
       "      <td>NaN</td>\n",
       "      <td>NaN</td>\n",
       "      <td>NaN</td>\n",
       "    </tr>\n",
       "    <tr>\n",
       "      <td>4</td>\n",
       "      <td>0</td>\n",
       "      <td>3</td>\n",
       "      <td>67</td>\n",
       "      <td>4</td>\n",
       "      <td>3307</td>\n",
       "      <td>23825</td>\n",
       "      <td>613</td>\n",
       "      <td>762</td>\n",
       "      <td>20</td>\n",
       "      <td>3</td>\n",
       "      <td>...</td>\n",
       "      <td>3.0</td>\n",
       "      <td>NaN</td>\n",
       "      <td>NaN</td>\n",
       "      <td>23.0</td>\n",
       "      <td>NaN</td>\n",
       "      <td>NaN</td>\n",
       "      <td>NaN</td>\n",
       "      <td>NaN</td>\n",
       "      <td>NaN</td>\n",
       "      <td>NaN</td>\n",
       "    </tr>\n",
       "  </tbody>\n",
       "</table>\n",
       "<p>5 rows × 73 columns</p>\n",
       "</div>"
      ],
      "text/plain": [
       "   match_id  account_id  hero_id  player_slot  gold  gold_spent  gold_per_min  \\\n",
       "0         0           0       86            0  3261       10960           347   \n",
       "1         0           1       51            1  2954       17760           494   \n",
       "2         0           0       83            2   110       12195           350   \n",
       "3         0           2       11            3  1179       22505           599   \n",
       "4         0           3       67            4  3307       23825           613   \n",
       "\n",
       "   xp_per_min  kills  deaths  ...  unit_order_glyph  \\\n",
       "0         362      9       3  ...               NaN   \n",
       "1         659     13       3  ...               NaN   \n",
       "2         385      0       4  ...               NaN   \n",
       "3         605      8       4  ...               1.0   \n",
       "4         762     20       3  ...               3.0   \n",
       "\n",
       "   unit_order_eject_item_from_stash  unit_order_cast_rune  \\\n",
       "0                               NaN                   NaN   \n",
       "1                               NaN                   NaN   \n",
       "2                               NaN                   NaN   \n",
       "3                               NaN                   NaN   \n",
       "4                               NaN                   NaN   \n",
       "\n",
       "  unit_order_ping_ability  unit_order_move_to_direction  unit_order_patrol  \\\n",
       "0                     6.0                           NaN                NaN   \n",
       "1                    14.0                           NaN                NaN   \n",
       "2                    17.0                           NaN                NaN   \n",
       "3                    13.0                           NaN                NaN   \n",
       "4                    23.0                           NaN                NaN   \n",
       "\n",
       "   unit_order_vector_target_position  unit_order_radar  \\\n",
       "0                                NaN               NaN   \n",
       "1                                NaN               NaN   \n",
       "2                                NaN               NaN   \n",
       "3                                NaN               NaN   \n",
       "4                                NaN               NaN   \n",
       "\n",
       "   unit_order_set_item_combine_lock  unit_order_continue  \n",
       "0                               NaN                  NaN  \n",
       "1                               NaN                  NaN  \n",
       "2                               NaN                  NaN  \n",
       "3                               NaN                  NaN  \n",
       "4                               NaN                  NaN  \n",
       "\n",
       "[5 rows x 73 columns]"
      ]
     },
     "execution_count": 13,
     "metadata": {},
     "output_type": "execute_result"
    }
   ],
   "source": [
    "players.head()"
   ]
  },
  {
   "cell_type": "code",
   "execution_count": 14,
   "metadata": {},
   "outputs": [],
   "source": [
    "heros_dict = dict(zip(heros['hero_id'], heros['localized_name']))\n",
    "heros_dict[0] = 'None'"
   ]
  },
  {
   "cell_type": "code",
   "execution_count": 15,
   "metadata": {},
   "outputs": [],
   "source": [
    "prep = pd.DataFrame()\n",
    "prep['hero'] = players['hero_id'].apply(lambda id: heros_dict[id])"
   ]
  },
  {
   "cell_type": "code",
   "execution_count": 16,
   "metadata": {},
   "outputs": [
    {
     "data": {
      "text/html": [
       "<div>\n",
       "<style scoped>\n",
       "    .dataframe tbody tr th:only-of-type {\n",
       "        vertical-align: middle;\n",
       "    }\n",
       "\n",
       "    .dataframe tbody tr th {\n",
       "        vertical-align: top;\n",
       "    }\n",
       "\n",
       "    .dataframe thead th {\n",
       "        text-align: right;\n",
       "    }\n",
       "</style>\n",
       "<table border=\"1\" class=\"dataframe\">\n",
       "  <thead>\n",
       "    <tr style=\"text-align: right;\">\n",
       "      <th></th>\n",
       "      <th>hero</th>\n",
       "    </tr>\n",
       "  </thead>\n",
       "  <tbody>\n",
       "    <tr>\n",
       "      <td>0</td>\n",
       "      <td>Rubick</td>\n",
       "    </tr>\n",
       "    <tr>\n",
       "      <td>1</td>\n",
       "      <td>Clockwerk</td>\n",
       "    </tr>\n",
       "    <tr>\n",
       "      <td>2</td>\n",
       "      <td>Treant Protector</td>\n",
       "    </tr>\n",
       "    <tr>\n",
       "      <td>3</td>\n",
       "      <td>Shadow Fiend</td>\n",
       "    </tr>\n",
       "    <tr>\n",
       "      <td>4</td>\n",
       "      <td>Spectre</td>\n",
       "    </tr>\n",
       "  </tbody>\n",
       "</table>\n",
       "</div>"
      ],
      "text/plain": [
       "               hero\n",
       "0            Rubick\n",
       "1         Clockwerk\n",
       "2  Treant Protector\n",
       "3      Shadow Fiend\n",
       "4           Spectre"
      ]
     },
     "execution_count": 16,
     "metadata": {},
     "output_type": "execute_result"
    }
   ],
   "source": [
    "prep.head()"
   ]
  },
  {
   "cell_type": "code",
   "execution_count": 17,
   "metadata": {},
   "outputs": [
    {
     "data": {
      "text/plain": [
       "(500000, 1)"
      ]
     },
     "execution_count": 17,
     "metadata": {},
     "output_type": "execute_result"
    }
   ],
   "source": [
    "prep.shape"
   ]
  },
  {
   "cell_type": "code",
   "execution_count": 18,
   "metadata": {},
   "outputs": [
    {
     "data": {
      "text/html": [
       "<div>\n",
       "<style scoped>\n",
       "    .dataframe tbody tr th:only-of-type {\n",
       "        vertical-align: middle;\n",
       "    }\n",
       "\n",
       "    .dataframe tbody tr th {\n",
       "        vertical-align: top;\n",
       "    }\n",
       "\n",
       "    .dataframe thead th {\n",
       "        text-align: right;\n",
       "    }\n",
       "</style>\n",
       "<table border=\"1\" class=\"dataframe\">\n",
       "  <thead>\n",
       "    <tr style=\"text-align: right;\">\n",
       "      <th></th>\n",
       "      <th>Abaddon</th>\n",
       "      <th>Alchemist</th>\n",
       "      <th>Ancient Apparition</th>\n",
       "      <th>Anti-Mage</th>\n",
       "      <th>Axe</th>\n",
       "      <th>Bane</th>\n",
       "      <th>Batrider</th>\n",
       "      <th>Beastmaster</th>\n",
       "      <th>Bloodseeker</th>\n",
       "      <th>Bounty Hunter</th>\n",
       "      <th>...</th>\n",
       "      <th>Venomancer</th>\n",
       "      <th>Viper</th>\n",
       "      <th>Visage</th>\n",
       "      <th>Warlock</th>\n",
       "      <th>Weaver</th>\n",
       "      <th>Windranger</th>\n",
       "      <th>Winter Wyvern</th>\n",
       "      <th>Witch Doctor</th>\n",
       "      <th>Wraith King</th>\n",
       "      <th>Zeus</th>\n",
       "    </tr>\n",
       "  </thead>\n",
       "  <tbody>\n",
       "    <tr>\n",
       "      <td>0</td>\n",
       "      <td>0</td>\n",
       "      <td>0</td>\n",
       "      <td>0</td>\n",
       "      <td>0</td>\n",
       "      <td>0</td>\n",
       "      <td>0</td>\n",
       "      <td>0</td>\n",
       "      <td>0</td>\n",
       "      <td>0</td>\n",
       "      <td>0</td>\n",
       "      <td>...</td>\n",
       "      <td>0</td>\n",
       "      <td>0</td>\n",
       "      <td>0</td>\n",
       "      <td>0</td>\n",
       "      <td>0</td>\n",
       "      <td>0</td>\n",
       "      <td>0</td>\n",
       "      <td>0</td>\n",
       "      <td>0</td>\n",
       "      <td>0</td>\n",
       "    </tr>\n",
       "    <tr>\n",
       "      <td>1</td>\n",
       "      <td>0</td>\n",
       "      <td>0</td>\n",
       "      <td>0</td>\n",
       "      <td>0</td>\n",
       "      <td>0</td>\n",
       "      <td>0</td>\n",
       "      <td>0</td>\n",
       "      <td>0</td>\n",
       "      <td>0</td>\n",
       "      <td>0</td>\n",
       "      <td>...</td>\n",
       "      <td>0</td>\n",
       "      <td>0</td>\n",
       "      <td>0</td>\n",
       "      <td>0</td>\n",
       "      <td>0</td>\n",
       "      <td>0</td>\n",
       "      <td>0</td>\n",
       "      <td>0</td>\n",
       "      <td>0</td>\n",
       "      <td>0</td>\n",
       "    </tr>\n",
       "    <tr>\n",
       "      <td>2</td>\n",
       "      <td>0</td>\n",
       "      <td>0</td>\n",
       "      <td>0</td>\n",
       "      <td>0</td>\n",
       "      <td>0</td>\n",
       "      <td>0</td>\n",
       "      <td>0</td>\n",
       "      <td>0</td>\n",
       "      <td>0</td>\n",
       "      <td>0</td>\n",
       "      <td>...</td>\n",
       "      <td>0</td>\n",
       "      <td>0</td>\n",
       "      <td>0</td>\n",
       "      <td>0</td>\n",
       "      <td>0</td>\n",
       "      <td>0</td>\n",
       "      <td>0</td>\n",
       "      <td>0</td>\n",
       "      <td>0</td>\n",
       "      <td>0</td>\n",
       "    </tr>\n",
       "    <tr>\n",
       "      <td>3</td>\n",
       "      <td>0</td>\n",
       "      <td>0</td>\n",
       "      <td>0</td>\n",
       "      <td>0</td>\n",
       "      <td>0</td>\n",
       "      <td>0</td>\n",
       "      <td>0</td>\n",
       "      <td>0</td>\n",
       "      <td>0</td>\n",
       "      <td>0</td>\n",
       "      <td>...</td>\n",
       "      <td>0</td>\n",
       "      <td>0</td>\n",
       "      <td>0</td>\n",
       "      <td>0</td>\n",
       "      <td>0</td>\n",
       "      <td>0</td>\n",
       "      <td>0</td>\n",
       "      <td>0</td>\n",
       "      <td>0</td>\n",
       "      <td>0</td>\n",
       "    </tr>\n",
       "    <tr>\n",
       "      <td>4</td>\n",
       "      <td>0</td>\n",
       "      <td>0</td>\n",
       "      <td>0</td>\n",
       "      <td>0</td>\n",
       "      <td>0</td>\n",
       "      <td>0</td>\n",
       "      <td>0</td>\n",
       "      <td>0</td>\n",
       "      <td>0</td>\n",
       "      <td>0</td>\n",
       "      <td>...</td>\n",
       "      <td>0</td>\n",
       "      <td>0</td>\n",
       "      <td>0</td>\n",
       "      <td>0</td>\n",
       "      <td>0</td>\n",
       "      <td>0</td>\n",
       "      <td>0</td>\n",
       "      <td>0</td>\n",
       "      <td>0</td>\n",
       "      <td>0</td>\n",
       "    </tr>\n",
       "  </tbody>\n",
       "</table>\n",
       "<p>5 rows × 111 columns</p>\n",
       "</div>"
      ],
      "text/plain": [
       "   Abaddon  Alchemist  Ancient Apparition  Anti-Mage  Axe  Bane  Batrider  \\\n",
       "0        0          0                   0          0    0     0         0   \n",
       "1        0          0                   0          0    0     0         0   \n",
       "2        0          0                   0          0    0     0         0   \n",
       "3        0          0                   0          0    0     0         0   \n",
       "4        0          0                   0          0    0     0         0   \n",
       "\n",
       "   Beastmaster  Bloodseeker  Bounty Hunter  ...  Venomancer  Viper  Visage  \\\n",
       "0            0            0              0  ...           0      0       0   \n",
       "1            0            0              0  ...           0      0       0   \n",
       "2            0            0              0  ...           0      0       0   \n",
       "3            0            0              0  ...           0      0       0   \n",
       "4            0            0              0  ...           0      0       0   \n",
       "\n",
       "   Warlock  Weaver  Windranger  Winter Wyvern  Witch Doctor  Wraith King  Zeus  \n",
       "0        0       0           0              0             0            0     0  \n",
       "1        0       0           0              0             0            0     0  \n",
       "2        0       0           0              0             0            0     0  \n",
       "3        0       0           0              0             0            0     0  \n",
       "4        0       0           0              0             0            0     0  \n",
       "\n",
       "[5 rows x 111 columns]"
      ]
     },
     "execution_count": 18,
     "metadata": {},
     "output_type": "execute_result"
    }
   ],
   "source": [
    "players_heroes = pd.get_dummies(prep['hero'])\n",
    "players_heroes.head()"
   ]
  },
  {
   "cell_type": "code",
   "execution_count": 19,
   "metadata": {},
   "outputs": [
    {
     "data": {
      "text/plain": [
       "(500000, 111)"
      ]
     },
     "execution_count": 19,
     "metadata": {},
     "output_type": "execute_result"
    }
   ],
   "source": [
    "players_heroes.shape"
   ]
  },
  {
   "cell_type": "code",
   "execution_count": 20,
   "metadata": {},
   "outputs": [
    {
     "data": {
      "text/html": [
       "<div>\n",
       "<style scoped>\n",
       "    .dataframe tbody tr th:only-of-type {\n",
       "        vertical-align: middle;\n",
       "    }\n",
       "\n",
       "    .dataframe tbody tr th {\n",
       "        vertical-align: top;\n",
       "    }\n",
       "\n",
       "    .dataframe thead th {\n",
       "        text-align: right;\n",
       "    }\n",
       "</style>\n",
       "<table border=\"1\" class=\"dataframe\">\n",
       "  <thead>\n",
       "    <tr style=\"text-align: right;\">\n",
       "      <th></th>\n",
       "      <th>level</th>\n",
       "      <th>xp_hero</th>\n",
       "      <th>xp_creep</th>\n",
       "    </tr>\n",
       "  </thead>\n",
       "  <tbody>\n",
       "    <tr>\n",
       "      <td>0</td>\n",
       "      <td>16</td>\n",
       "      <td>8840.0</td>\n",
       "      <td>5440.0</td>\n",
       "    </tr>\n",
       "    <tr>\n",
       "      <td>1</td>\n",
       "      <td>22</td>\n",
       "      <td>14331.0</td>\n",
       "      <td>8440.0</td>\n",
       "    </tr>\n",
       "    <tr>\n",
       "      <td>2</td>\n",
       "      <td>17</td>\n",
       "      <td>6692.0</td>\n",
       "      <td>8112.0</td>\n",
       "    </tr>\n",
       "    <tr>\n",
       "      <td>3</td>\n",
       "      <td>21</td>\n",
       "      <td>8583.0</td>\n",
       "      <td>14230.0</td>\n",
       "    </tr>\n",
       "    <tr>\n",
       "      <td>4</td>\n",
       "      <td>24</td>\n",
       "      <td>15814.0</td>\n",
       "      <td>14325.0</td>\n",
       "    </tr>\n",
       "    <tr>\n",
       "      <td>...</td>\n",
       "      <td>...</td>\n",
       "      <td>...</td>\n",
       "      <td>...</td>\n",
       "    </tr>\n",
       "    <tr>\n",
       "      <td>499995</td>\n",
       "      <td>23</td>\n",
       "      <td>21496.0</td>\n",
       "      <td>6025.0</td>\n",
       "    </tr>\n",
       "    <tr>\n",
       "      <td>499996</td>\n",
       "      <td>23</td>\n",
       "      <td>16360.0</td>\n",
       "      <td>9653.0</td>\n",
       "    </tr>\n",
       "    <tr>\n",
       "      <td>499997</td>\n",
       "      <td>18</td>\n",
       "      <td>8205.0</td>\n",
       "      <td>10012.0</td>\n",
       "    </tr>\n",
       "    <tr>\n",
       "      <td>499998</td>\n",
       "      <td>25</td>\n",
       "      <td>11773.0</td>\n",
       "      <td>20005.0</td>\n",
       "    </tr>\n",
       "    <tr>\n",
       "      <td>499999</td>\n",
       "      <td>21</td>\n",
       "      <td>8210.0</td>\n",
       "      <td>15571.0</td>\n",
       "    </tr>\n",
       "  </tbody>\n",
       "</table>\n",
       "<p>500000 rows × 3 columns</p>\n",
       "</div>"
      ],
      "text/plain": [
       "        level  xp_hero  xp_creep\n",
       "0          16   8840.0    5440.0\n",
       "1          22  14331.0    8440.0\n",
       "2          17   6692.0    8112.0\n",
       "3          21   8583.0   14230.0\n",
       "4          24  15814.0   14325.0\n",
       "...       ...      ...       ...\n",
       "499995     23  21496.0    6025.0\n",
       "499996     23  16360.0    9653.0\n",
       "499997     18   8205.0   10012.0\n",
       "499998     25  11773.0   20005.0\n",
       "499999     21   8210.0   15571.0\n",
       "\n",
       "[500000 rows x 3 columns]"
      ]
     },
     "execution_count": 20,
     "metadata": {},
     "output_type": "execute_result"
    }
   ],
   "source": [
    "players_lvl_xp = {\n",
    "    'level': players['level'],\n",
    "    'xp_hero': players['xp_hero'],\n",
    "    'xp_creep': players['xp_creep']\n",
    "}\n",
    "players_lvl_xp_labels = players_lvl_xp.keys()\n",
    "\n",
    "p_lvl_xp = pd.DataFrame(players_lvl_xp, columns=players_lvl_xp_labels)\n",
    "p_lvl_xp.fillna(0)"
   ]
  },
  {
   "cell_type": "code",
   "execution_count": 21,
   "metadata": {},
   "outputs": [],
   "source": [
    "r_heroes_cols = list(map(lambda title: 'r_' + str(title), players_heroes.columns.values))\n",
    "d_heroes_cols = list(map(lambda title: 'd_' + str(title), players_heroes.columns.values))\n",
    "r_lvl_cols = list(map(lambda title: 'r_' + str(title), p_lvl_xp.columns.values))\n",
    "d_lvl_cols = list(map(lambda title: 'd_' + str(title), p_lvl_xp.columns.values))"
   ]
  },
  {
   "cell_type": "code",
   "execution_count": 22,
   "metadata": {},
   "outputs": [],
   "source": [
    "r_hero_list = []\n",
    "d_hero_list = []\n",
    "r_lvl_xp_list = []\n",
    "d_lvl_xp_list = []\n",
    "\n",
    "for id, idx in players.groupby('match_id').groups.items():\n",
    "    r_hero_list.append(players_heroes.iloc[idx][:5].sum().values)\n",
    "    d_hero_list.append(players_heroes.iloc[idx][5:].sum().values)\n",
    "    r_lvl_xp_list.append(p_lvl_xp.iloc[idx][:5].sum().values)\n",
    "    d_lvl_xp_list.append(p_lvl_xp.iloc[idx][5:].sum().values)"
   ]
  },
  {
   "cell_type": "code",
   "execution_count": 23,
   "metadata": {},
   "outputs": [],
   "source": [
    "r_heroes = pd.DataFrame(r_hero_list, columns=r_heroes_cols)\n",
    "d_heroes = pd.DataFrame(d_hero_list, columns=d_heroes_cols)\n",
    "r_lvl_xp = pd.DataFrame(r_lvl_xp_list, columns=r_lvl_cols)\n",
    "d_lvl_xp = pd.DataFrame(d_lvl_xp_list, columns=d_lvl_cols)\n",
    "\n",
    "X = pd.DataFrame()\n",
    "X = pd.concat([r_heroes, d_heroes, r_lvl_xp, d_lvl_xp], axis=1)"
   ]
  },
  {
   "cell_type": "code",
   "execution_count": 24,
   "metadata": {},
   "outputs": [
    {
     "data": {
      "text/plain": [
       "(50000, 228)"
      ]
     },
     "execution_count": 24,
     "metadata": {},
     "output_type": "execute_result"
    }
   ],
   "source": [
    "X.shape"
   ]
  },
  {
   "cell_type": "code",
   "execution_count": 25,
   "metadata": {},
   "outputs": [
    {
     "data": {
      "text/html": [
       "<div>\n",
       "<style scoped>\n",
       "    .dataframe tbody tr th:only-of-type {\n",
       "        vertical-align: middle;\n",
       "    }\n",
       "\n",
       "    .dataframe tbody tr th {\n",
       "        vertical-align: top;\n",
       "    }\n",
       "\n",
       "    .dataframe thead th {\n",
       "        text-align: right;\n",
       "    }\n",
       "</style>\n",
       "<table border=\"1\" class=\"dataframe\">\n",
       "  <thead>\n",
       "    <tr style=\"text-align: right;\">\n",
       "      <th></th>\n",
       "      <th>r_Abaddon</th>\n",
       "      <th>r_Alchemist</th>\n",
       "      <th>r_Ancient Apparition</th>\n",
       "      <th>r_Anti-Mage</th>\n",
       "      <th>r_Axe</th>\n",
       "      <th>r_Bane</th>\n",
       "      <th>r_Batrider</th>\n",
       "      <th>r_Beastmaster</th>\n",
       "      <th>r_Bloodseeker</th>\n",
       "      <th>r_Bounty Hunter</th>\n",
       "      <th>...</th>\n",
       "      <th>d_Winter Wyvern</th>\n",
       "      <th>d_Witch Doctor</th>\n",
       "      <th>d_Wraith King</th>\n",
       "      <th>d_Zeus</th>\n",
       "      <th>r_level</th>\n",
       "      <th>r_xp_hero</th>\n",
       "      <th>r_xp_creep</th>\n",
       "      <th>d_level</th>\n",
       "      <th>d_xp_hero</th>\n",
       "      <th>d_xp_creep</th>\n",
       "    </tr>\n",
       "  </thead>\n",
       "  <tbody>\n",
       "    <tr>\n",
       "      <td>0</td>\n",
       "      <td>0</td>\n",
       "      <td>0</td>\n",
       "      <td>0</td>\n",
       "      <td>0</td>\n",
       "      <td>0</td>\n",
       "      <td>0</td>\n",
       "      <td>0</td>\n",
       "      <td>0</td>\n",
       "      <td>0</td>\n",
       "      <td>0</td>\n",
       "      <td>...</td>\n",
       "      <td>0</td>\n",
       "      <td>0</td>\n",
       "      <td>0</td>\n",
       "      <td>0</td>\n",
       "      <td>100.0</td>\n",
       "      <td>54260.0</td>\n",
       "      <td>50547.0</td>\n",
       "      <td>84.0</td>\n",
       "      <td>32013.0</td>\n",
       "      <td>49581.0</td>\n",
       "    </tr>\n",
       "    <tr>\n",
       "      <td>1</td>\n",
       "      <td>0</td>\n",
       "      <td>0</td>\n",
       "      <td>0</td>\n",
       "      <td>0</td>\n",
       "      <td>0</td>\n",
       "      <td>0</td>\n",
       "      <td>0</td>\n",
       "      <td>0</td>\n",
       "      <td>0</td>\n",
       "      <td>0</td>\n",
       "      <td>...</td>\n",
       "      <td>0</td>\n",
       "      <td>0</td>\n",
       "      <td>0</td>\n",
       "      <td>1</td>\n",
       "      <td>92.0</td>\n",
       "      <td>35143.0</td>\n",
       "      <td>38193.0</td>\n",
       "      <td>111.0</td>\n",
       "      <td>61636.0</td>\n",
       "      <td>69377.0</td>\n",
       "    </tr>\n",
       "    <tr>\n",
       "      <td>2</td>\n",
       "      <td>0</td>\n",
       "      <td>0</td>\n",
       "      <td>0</td>\n",
       "      <td>0</td>\n",
       "      <td>0</td>\n",
       "      <td>0</td>\n",
       "      <td>0</td>\n",
       "      <td>0</td>\n",
       "      <td>0</td>\n",
       "      <td>0</td>\n",
       "      <td>...</td>\n",
       "      <td>0</td>\n",
       "      <td>0</td>\n",
       "      <td>0</td>\n",
       "      <td>0</td>\n",
       "      <td>80.0</td>\n",
       "      <td>21155.0</td>\n",
       "      <td>50575.0</td>\n",
       "      <td>99.0</td>\n",
       "      <td>53410.0</td>\n",
       "      <td>49894.0</td>\n",
       "    </tr>\n",
       "    <tr>\n",
       "      <td>3</td>\n",
       "      <td>0</td>\n",
       "      <td>0</td>\n",
       "      <td>0</td>\n",
       "      <td>0</td>\n",
       "      <td>0</td>\n",
       "      <td>0</td>\n",
       "      <td>0</td>\n",
       "      <td>0</td>\n",
       "      <td>0</td>\n",
       "      <td>0</td>\n",
       "      <td>...</td>\n",
       "      <td>0</td>\n",
       "      <td>0</td>\n",
       "      <td>0</td>\n",
       "      <td>0</td>\n",
       "      <td>110.0</td>\n",
       "      <td>84107.0</td>\n",
       "      <td>43763.0</td>\n",
       "      <td>112.0</td>\n",
       "      <td>84889.0</td>\n",
       "      <td>46794.0</td>\n",
       "    </tr>\n",
       "    <tr>\n",
       "      <td>4</td>\n",
       "      <td>0</td>\n",
       "      <td>0</td>\n",
       "      <td>0</td>\n",
       "      <td>0</td>\n",
       "      <td>0</td>\n",
       "      <td>0</td>\n",
       "      <td>0</td>\n",
       "      <td>0</td>\n",
       "      <td>0</td>\n",
       "      <td>0</td>\n",
       "      <td>...</td>\n",
       "      <td>0</td>\n",
       "      <td>0</td>\n",
       "      <td>0</td>\n",
       "      <td>1</td>\n",
       "      <td>85.0</td>\n",
       "      <td>31029.0</td>\n",
       "      <td>45444.0</td>\n",
       "      <td>65.0</td>\n",
       "      <td>19392.0</td>\n",
       "      <td>29549.0</td>\n",
       "    </tr>\n",
       "  </tbody>\n",
       "</table>\n",
       "<p>5 rows × 228 columns</p>\n",
       "</div>"
      ],
      "text/plain": [
       "   r_Abaddon  r_Alchemist  r_Ancient Apparition  r_Anti-Mage  r_Axe  r_Bane  \\\n",
       "0          0            0                     0            0      0       0   \n",
       "1          0            0                     0            0      0       0   \n",
       "2          0            0                     0            0      0       0   \n",
       "3          0            0                     0            0      0       0   \n",
       "4          0            0                     0            0      0       0   \n",
       "\n",
       "   r_Batrider  r_Beastmaster  r_Bloodseeker  r_Bounty Hunter  ...  \\\n",
       "0           0              0              0                0  ...   \n",
       "1           0              0              0                0  ...   \n",
       "2           0              0              0                0  ...   \n",
       "3           0              0              0                0  ...   \n",
       "4           0              0              0                0  ...   \n",
       "\n",
       "   d_Winter Wyvern  d_Witch Doctor  d_Wraith King  d_Zeus  r_level  r_xp_hero  \\\n",
       "0                0               0              0       0    100.0    54260.0   \n",
       "1                0               0              0       1     92.0    35143.0   \n",
       "2                0               0              0       0     80.0    21155.0   \n",
       "3                0               0              0       0    110.0    84107.0   \n",
       "4                0               0              0       1     85.0    31029.0   \n",
       "\n",
       "   r_xp_creep  d_level  d_xp_hero  d_xp_creep  \n",
       "0     50547.0     84.0    32013.0     49581.0  \n",
       "1     38193.0    111.0    61636.0     69377.0  \n",
       "2     50575.0     99.0    53410.0     49894.0  \n",
       "3     43763.0    112.0    84889.0     46794.0  \n",
       "4     45444.0     65.0    19392.0     29549.0  \n",
       "\n",
       "[5 rows x 228 columns]"
      ]
     },
     "execution_count": 25,
     "metadata": {},
     "output_type": "execute_result"
    }
   ],
   "source": [
    "X.head()"
   ]
  },
  {
   "cell_type": "code",
   "execution_count": 26,
   "metadata": {},
   "outputs": [
    {
     "name": "stdout",
     "output_type": "stream",
     "text": [
      "<class 'pandas.core.frame.DataFrame'>\n",
      "RangeIndex: 50000 entries, 0 to 49999\n",
      "Columns: 228 entries, r_Abaddon to d_xp_creep\n",
      "dtypes: float64(6), int64(222)\n",
      "memory usage: 87.0 MB\n"
     ]
    }
   ],
   "source": [
    "X.info()"
   ]
  },
  {
   "cell_type": "code",
   "execution_count": 27,
   "metadata": {},
   "outputs": [
    {
     "data": {
      "text/html": [
       "<div>\n",
       "<style scoped>\n",
       "    .dataframe tbody tr th:only-of-type {\n",
       "        vertical-align: middle;\n",
       "    }\n",
       "\n",
       "    .dataframe tbody tr th {\n",
       "        vertical-align: top;\n",
       "    }\n",
       "\n",
       "    .dataframe thead th {\n",
       "        text-align: right;\n",
       "    }\n",
       "</style>\n",
       "<table border=\"1\" class=\"dataframe\">\n",
       "  <thead>\n",
       "    <tr style=\"text-align: right;\">\n",
       "      <th></th>\n",
       "      <th>r_Abaddon</th>\n",
       "      <th>r_Alchemist</th>\n",
       "      <th>r_Ancient Apparition</th>\n",
       "      <th>r_Anti-Mage</th>\n",
       "      <th>r_Axe</th>\n",
       "      <th>r_Bane</th>\n",
       "      <th>r_Batrider</th>\n",
       "      <th>r_Beastmaster</th>\n",
       "      <th>r_Bloodseeker</th>\n",
       "      <th>r_Bounty Hunter</th>\n",
       "      <th>...</th>\n",
       "      <th>d_Winter Wyvern</th>\n",
       "      <th>d_Witch Doctor</th>\n",
       "      <th>d_Wraith King</th>\n",
       "      <th>d_Zeus</th>\n",
       "      <th>r_level</th>\n",
       "      <th>r_xp_hero</th>\n",
       "      <th>r_xp_creep</th>\n",
       "      <th>d_level</th>\n",
       "      <th>d_xp_hero</th>\n",
       "      <th>d_xp_creep</th>\n",
       "    </tr>\n",
       "  </thead>\n",
       "  <tbody>\n",
       "    <tr>\n",
       "      <td>count</td>\n",
       "      <td>50000.000000</td>\n",
       "      <td>50000.000000</td>\n",
       "      <td>50000.000000</td>\n",
       "      <td>50000.000000</td>\n",
       "      <td>50000.000000</td>\n",
       "      <td>50000.00000</td>\n",
       "      <td>50000.000000</td>\n",
       "      <td>50000.000000</td>\n",
       "      <td>50000.000000</td>\n",
       "      <td>50000.000000</td>\n",
       "      <td>...</td>\n",
       "      <td>50000.000000</td>\n",
       "      <td>50000.000000</td>\n",
       "      <td>50000.000000</td>\n",
       "      <td>50000.00000</td>\n",
       "      <td>50000.000000</td>\n",
       "      <td>50000.000000</td>\n",
       "      <td>50000.000000</td>\n",
       "      <td>50000.000000</td>\n",
       "      <td>50000.000000</td>\n",
       "      <td>50000.000000</td>\n",
       "    </tr>\n",
       "    <tr>\n",
       "      <td>mean</td>\n",
       "      <td>0.033720</td>\n",
       "      <td>0.099260</td>\n",
       "      <td>0.067620</td>\n",
       "      <td>0.092740</td>\n",
       "      <td>0.045820</td>\n",
       "      <td>0.02560</td>\n",
       "      <td>0.009960</td>\n",
       "      <td>0.012980</td>\n",
       "      <td>0.029980</td>\n",
       "      <td>0.067040</td>\n",
       "      <td>...</td>\n",
       "      <td>0.076360</td>\n",
       "      <td>0.073400</td>\n",
       "      <td>0.077760</td>\n",
       "      <td>0.04658</td>\n",
       "      <td>90.329780</td>\n",
       "      <td>43823.015720</td>\n",
       "      <td>47339.758200</td>\n",
       "      <td>90.192120</td>\n",
       "      <td>43494.625000</td>\n",
       "      <td>47368.940200</td>\n",
       "    </tr>\n",
       "    <tr>\n",
       "      <td>std</td>\n",
       "      <td>0.180509</td>\n",
       "      <td>0.299014</td>\n",
       "      <td>0.251095</td>\n",
       "      <td>0.290071</td>\n",
       "      <td>0.209097</td>\n",
       "      <td>0.15794</td>\n",
       "      <td>0.099303</td>\n",
       "      <td>0.113189</td>\n",
       "      <td>0.170534</td>\n",
       "      <td>0.250094</td>\n",
       "      <td>...</td>\n",
       "      <td>0.265576</td>\n",
       "      <td>0.260795</td>\n",
       "      <td>0.267796</td>\n",
       "      <td>0.21074</td>\n",
       "      <td>16.949911</td>\n",
       "      <td>19043.371723</td>\n",
       "      <td>14220.061224</td>\n",
       "      <td>18.179635</td>\n",
       "      <td>19897.499796</td>\n",
       "      <td>14580.644952</td>\n",
       "    </tr>\n",
       "    <tr>\n",
       "      <td>min</td>\n",
       "      <td>0.000000</td>\n",
       "      <td>0.000000</td>\n",
       "      <td>0.000000</td>\n",
       "      <td>0.000000</td>\n",
       "      <td>0.000000</td>\n",
       "      <td>0.00000</td>\n",
       "      <td>0.000000</td>\n",
       "      <td>0.000000</td>\n",
       "      <td>0.000000</td>\n",
       "      <td>0.000000</td>\n",
       "      <td>...</td>\n",
       "      <td>0.000000</td>\n",
       "      <td>0.000000</td>\n",
       "      <td>0.000000</td>\n",
       "      <td>0.00000</td>\n",
       "      <td>5.000000</td>\n",
       "      <td>0.000000</td>\n",
       "      <td>62.000000</td>\n",
       "      <td>6.000000</td>\n",
       "      <td>0.000000</td>\n",
       "      <td>308.000000</td>\n",
       "    </tr>\n",
       "    <tr>\n",
       "      <td>25%</td>\n",
       "      <td>0.000000</td>\n",
       "      <td>0.000000</td>\n",
       "      <td>0.000000</td>\n",
       "      <td>0.000000</td>\n",
       "      <td>0.000000</td>\n",
       "      <td>0.00000</td>\n",
       "      <td>0.000000</td>\n",
       "      <td>0.000000</td>\n",
       "      <td>0.000000</td>\n",
       "      <td>0.000000</td>\n",
       "      <td>...</td>\n",
       "      <td>0.000000</td>\n",
       "      <td>0.000000</td>\n",
       "      <td>0.000000</td>\n",
       "      <td>0.00000</td>\n",
       "      <td>79.000000</td>\n",
       "      <td>29793.500000</td>\n",
       "      <td>36828.750000</td>\n",
       "      <td>78.000000</td>\n",
       "      <td>28562.000000</td>\n",
       "      <td>36613.000000</td>\n",
       "    </tr>\n",
       "    <tr>\n",
       "      <td>50%</td>\n",
       "      <td>0.000000</td>\n",
       "      <td>0.000000</td>\n",
       "      <td>0.000000</td>\n",
       "      <td>0.000000</td>\n",
       "      <td>0.000000</td>\n",
       "      <td>0.00000</td>\n",
       "      <td>0.000000</td>\n",
       "      <td>0.000000</td>\n",
       "      <td>0.000000</td>\n",
       "      <td>0.000000</td>\n",
       "      <td>...</td>\n",
       "      <td>0.000000</td>\n",
       "      <td>0.000000</td>\n",
       "      <td>0.000000</td>\n",
       "      <td>0.00000</td>\n",
       "      <td>91.000000</td>\n",
       "      <td>42920.000000</td>\n",
       "      <td>46272.500000</td>\n",
       "      <td>92.000000</td>\n",
       "      <td>43089.500000</td>\n",
       "      <td>46660.000000</td>\n",
       "    </tr>\n",
       "    <tr>\n",
       "      <td>75%</td>\n",
       "      <td>0.000000</td>\n",
       "      <td>0.000000</td>\n",
       "      <td>0.000000</td>\n",
       "      <td>0.000000</td>\n",
       "      <td>0.000000</td>\n",
       "      <td>0.00000</td>\n",
       "      <td>0.000000</td>\n",
       "      <td>0.000000</td>\n",
       "      <td>0.000000</td>\n",
       "      <td>0.000000</td>\n",
       "      <td>...</td>\n",
       "      <td>0.000000</td>\n",
       "      <td>0.000000</td>\n",
       "      <td>0.000000</td>\n",
       "      <td>0.00000</td>\n",
       "      <td>103.000000</td>\n",
       "      <td>57065.250000</td>\n",
       "      <td>56815.250000</td>\n",
       "      <td>104.000000</td>\n",
       "      <td>57675.750000</td>\n",
       "      <td>57266.500000</td>\n",
       "    </tr>\n",
       "    <tr>\n",
       "      <td>max</td>\n",
       "      <td>1.000000</td>\n",
       "      <td>1.000000</td>\n",
       "      <td>1.000000</td>\n",
       "      <td>1.000000</td>\n",
       "      <td>1.000000</td>\n",
       "      <td>1.00000</td>\n",
       "      <td>1.000000</td>\n",
       "      <td>1.000000</td>\n",
       "      <td>1.000000</td>\n",
       "      <td>1.000000</td>\n",
       "      <td>...</td>\n",
       "      <td>1.000000</td>\n",
       "      <td>1.000000</td>\n",
       "      <td>1.000000</td>\n",
       "      <td>1.00000</td>\n",
       "      <td>125.000000</td>\n",
       "      <td>117609.000000</td>\n",
       "      <td>115026.000000</td>\n",
       "      <td>125.000000</td>\n",
       "      <td>113282.000000</td>\n",
       "      <td>116644.000000</td>\n",
       "    </tr>\n",
       "  </tbody>\n",
       "</table>\n",
       "<p>8 rows × 228 columns</p>\n",
       "</div>"
      ],
      "text/plain": [
       "          r_Abaddon   r_Alchemist  r_Ancient Apparition   r_Anti-Mage  \\\n",
       "count  50000.000000  50000.000000          50000.000000  50000.000000   \n",
       "mean       0.033720      0.099260              0.067620      0.092740   \n",
       "std        0.180509      0.299014              0.251095      0.290071   \n",
       "min        0.000000      0.000000              0.000000      0.000000   \n",
       "25%        0.000000      0.000000              0.000000      0.000000   \n",
       "50%        0.000000      0.000000              0.000000      0.000000   \n",
       "75%        0.000000      0.000000              0.000000      0.000000   \n",
       "max        1.000000      1.000000              1.000000      1.000000   \n",
       "\n",
       "              r_Axe       r_Bane    r_Batrider  r_Beastmaster  r_Bloodseeker  \\\n",
       "count  50000.000000  50000.00000  50000.000000   50000.000000   50000.000000   \n",
       "mean       0.045820      0.02560      0.009960       0.012980       0.029980   \n",
       "std        0.209097      0.15794      0.099303       0.113189       0.170534   \n",
       "min        0.000000      0.00000      0.000000       0.000000       0.000000   \n",
       "25%        0.000000      0.00000      0.000000       0.000000       0.000000   \n",
       "50%        0.000000      0.00000      0.000000       0.000000       0.000000   \n",
       "75%        0.000000      0.00000      0.000000       0.000000       0.000000   \n",
       "max        1.000000      1.00000      1.000000       1.000000       1.000000   \n",
       "\n",
       "       r_Bounty Hunter  ...  d_Winter Wyvern  d_Witch Doctor  d_Wraith King  \\\n",
       "count     50000.000000  ...     50000.000000    50000.000000   50000.000000   \n",
       "mean          0.067040  ...         0.076360        0.073400       0.077760   \n",
       "std           0.250094  ...         0.265576        0.260795       0.267796   \n",
       "min           0.000000  ...         0.000000        0.000000       0.000000   \n",
       "25%           0.000000  ...         0.000000        0.000000       0.000000   \n",
       "50%           0.000000  ...         0.000000        0.000000       0.000000   \n",
       "75%           0.000000  ...         0.000000        0.000000       0.000000   \n",
       "max           1.000000  ...         1.000000        1.000000       1.000000   \n",
       "\n",
       "            d_Zeus       r_level      r_xp_hero     r_xp_creep       d_level  \\\n",
       "count  50000.00000  50000.000000   50000.000000   50000.000000  50000.000000   \n",
       "mean       0.04658     90.329780   43823.015720   47339.758200     90.192120   \n",
       "std        0.21074     16.949911   19043.371723   14220.061224     18.179635   \n",
       "min        0.00000      5.000000       0.000000      62.000000      6.000000   \n",
       "25%        0.00000     79.000000   29793.500000   36828.750000     78.000000   \n",
       "50%        0.00000     91.000000   42920.000000   46272.500000     92.000000   \n",
       "75%        0.00000    103.000000   57065.250000   56815.250000    104.000000   \n",
       "max        1.00000    125.000000  117609.000000  115026.000000    125.000000   \n",
       "\n",
       "           d_xp_hero     d_xp_creep  \n",
       "count   50000.000000   50000.000000  \n",
       "mean    43494.625000   47368.940200  \n",
       "std     19897.499796   14580.644952  \n",
       "min         0.000000     308.000000  \n",
       "25%     28562.000000   36613.000000  \n",
       "50%     43089.500000   46660.000000  \n",
       "75%     57675.750000   57266.500000  \n",
       "max    113282.000000  116644.000000  \n",
       "\n",
       "[8 rows x 228 columns]"
      ]
     },
     "execution_count": 27,
     "metadata": {},
     "output_type": "execute_result"
    }
   ],
   "source": [
    "X.describe()"
   ]
  },
  {
   "cell_type": "code",
   "execution_count": 28,
   "metadata": {},
   "outputs": [
    {
     "data": {
      "text/html": [
       "<div>\n",
       "<style scoped>\n",
       "    .dataframe tbody tr th:only-of-type {\n",
       "        vertical-align: middle;\n",
       "    }\n",
       "\n",
       "    .dataframe tbody tr th {\n",
       "        vertical-align: top;\n",
       "    }\n",
       "\n",
       "    .dataframe thead th {\n",
       "        text-align: right;\n",
       "    }\n",
       "</style>\n",
       "<table border=\"1\" class=\"dataframe\">\n",
       "  <thead>\n",
       "    <tr style=\"text-align: right;\">\n",
       "      <th></th>\n",
       "      <th>r_Abaddon</th>\n",
       "      <th>r_Alchemist</th>\n",
       "      <th>r_Ancient Apparition</th>\n",
       "      <th>r_Anti-Mage</th>\n",
       "      <th>r_Axe</th>\n",
       "      <th>r_Bane</th>\n",
       "      <th>r_Batrider</th>\n",
       "      <th>r_Beastmaster</th>\n",
       "      <th>r_Bloodseeker</th>\n",
       "      <th>r_Bounty Hunter</th>\n",
       "      <th>...</th>\n",
       "      <th>d_Winter Wyvern</th>\n",
       "      <th>d_Witch Doctor</th>\n",
       "      <th>d_Wraith King</th>\n",
       "      <th>d_Zeus</th>\n",
       "      <th>r_level</th>\n",
       "      <th>r_xp_hero</th>\n",
       "      <th>r_xp_creep</th>\n",
       "      <th>d_level</th>\n",
       "      <th>d_xp_hero</th>\n",
       "      <th>d_xp_creep</th>\n",
       "    </tr>\n",
       "  </thead>\n",
       "  <tbody>\n",
       "    <tr>\n",
       "      <td>r_Abaddon</td>\n",
       "      <td>1.000000</td>\n",
       "      <td>-0.013470</td>\n",
       "      <td>-0.018095</td>\n",
       "      <td>-0.003193</td>\n",
       "      <td>-0.006493</td>\n",
       "      <td>-0.012741</td>\n",
       "      <td>0.001347</td>\n",
       "      <td>-0.007718</td>\n",
       "      <td>-0.011400</td>\n",
       "      <td>-0.009317</td>\n",
       "      <td>...</td>\n",
       "      <td>-0.002396</td>\n",
       "      <td>0.001380</td>\n",
       "      <td>-0.002111</td>\n",
       "      <td>-0.009744</td>\n",
       "      <td>-0.025769</td>\n",
       "      <td>-0.026269</td>\n",
       "      <td>-0.022400</td>\n",
       "      <td>-0.039091</td>\n",
       "      <td>-0.046028</td>\n",
       "      <td>-0.023203</td>\n",
       "    </tr>\n",
       "    <tr>\n",
       "      <td>r_Alchemist</td>\n",
       "      <td>-0.013470</td>\n",
       "      <td>1.000000</td>\n",
       "      <td>-0.003090</td>\n",
       "      <td>-0.040646</td>\n",
       "      <td>-0.010686</td>\n",
       "      <td>-0.007645</td>\n",
       "      <td>-0.004332</td>\n",
       "      <td>-0.003794</td>\n",
       "      <td>-0.005801</td>\n",
       "      <td>-0.002599</td>\n",
       "      <td>...</td>\n",
       "      <td>-0.015609</td>\n",
       "      <td>-0.005459</td>\n",
       "      <td>0.000019</td>\n",
       "      <td>-0.008308</td>\n",
       "      <td>-0.008692</td>\n",
       "      <td>-0.029316</td>\n",
       "      <td>0.034614</td>\n",
       "      <td>0.009807</td>\n",
       "      <td>-0.000217</td>\n",
       "      <td>0.013178</td>\n",
       "    </tr>\n",
       "    <tr>\n",
       "      <td>r_Ancient Apparition</td>\n",
       "      <td>-0.018095</td>\n",
       "      <td>-0.003090</td>\n",
       "      <td>1.000000</td>\n",
       "      <td>0.000122</td>\n",
       "      <td>-0.003397</td>\n",
       "      <td>-0.019443</td>\n",
       "      <td>-0.005354</td>\n",
       "      <td>0.008525</td>\n",
       "      <td>-0.008577</td>\n",
       "      <td>-0.019957</td>\n",
       "      <td>...</td>\n",
       "      <td>0.012245</td>\n",
       "      <td>0.003920</td>\n",
       "      <td>-0.003244</td>\n",
       "      <td>-0.006987</td>\n",
       "      <td>0.026199</td>\n",
       "      <td>0.025824</td>\n",
       "      <td>0.031321</td>\n",
       "      <td>0.021677</td>\n",
       "      <td>0.002188</td>\n",
       "      <td>0.045034</td>\n",
       "    </tr>\n",
       "    <tr>\n",
       "      <td>r_Anti-Mage</td>\n",
       "      <td>-0.003193</td>\n",
       "      <td>-0.040646</td>\n",
       "      <td>0.000122</td>\n",
       "      <td>1.000000</td>\n",
       "      <td>-0.001473</td>\n",
       "      <td>0.001874</td>\n",
       "      <td>0.003344</td>\n",
       "      <td>-0.006206</td>\n",
       "      <td>-0.014967</td>\n",
       "      <td>-0.010715</td>\n",
       "      <td>...</td>\n",
       "      <td>0.003873</td>\n",
       "      <td>-0.006704</td>\n",
       "      <td>0.069627</td>\n",
       "      <td>0.010800</td>\n",
       "      <td>-0.019775</td>\n",
       "      <td>-0.074794</td>\n",
       "      <td>0.073881</td>\n",
       "      <td>0.005712</td>\n",
       "      <td>-0.013046</td>\n",
       "      <td>0.017188</td>\n",
       "    </tr>\n",
       "    <tr>\n",
       "      <td>r_Axe</td>\n",
       "      <td>-0.006493</td>\n",
       "      <td>-0.010686</td>\n",
       "      <td>-0.003397</td>\n",
       "      <td>-0.001473</td>\n",
       "      <td>1.000000</td>\n",
       "      <td>-0.005844</td>\n",
       "      <td>-0.003678</td>\n",
       "      <td>-0.011609</td>\n",
       "      <td>-0.015528</td>\n",
       "      <td>-0.014759</td>\n",
       "      <td>...</td>\n",
       "      <td>-0.015466</td>\n",
       "      <td>-0.001159</td>\n",
       "      <td>-0.009340</td>\n",
       "      <td>-0.002594</td>\n",
       "      <td>0.004619</td>\n",
       "      <td>0.004133</td>\n",
       "      <td>0.007454</td>\n",
       "      <td>0.021056</td>\n",
       "      <td>0.034784</td>\n",
       "      <td>0.000317</td>\n",
       "    </tr>\n",
       "    <tr>\n",
       "      <td>...</td>\n",
       "      <td>...</td>\n",
       "      <td>...</td>\n",
       "      <td>...</td>\n",
       "      <td>...</td>\n",
       "      <td>...</td>\n",
       "      <td>...</td>\n",
       "      <td>...</td>\n",
       "      <td>...</td>\n",
       "      <td>...</td>\n",
       "      <td>...</td>\n",
       "      <td>...</td>\n",
       "      <td>...</td>\n",
       "      <td>...</td>\n",
       "      <td>...</td>\n",
       "      <td>...</td>\n",
       "      <td>...</td>\n",
       "      <td>...</td>\n",
       "      <td>...</td>\n",
       "      <td>...</td>\n",
       "      <td>...</td>\n",
       "      <td>...</td>\n",
       "    </tr>\n",
       "    <tr>\n",
       "      <td>r_xp_hero</td>\n",
       "      <td>-0.026269</td>\n",
       "      <td>-0.029316</td>\n",
       "      <td>0.025824</td>\n",
       "      <td>-0.074794</td>\n",
       "      <td>0.004133</td>\n",
       "      <td>-0.018126</td>\n",
       "      <td>0.005203</td>\n",
       "      <td>-0.004824</td>\n",
       "      <td>0.033047</td>\n",
       "      <td>-0.011236</td>\n",
       "      <td>...</td>\n",
       "      <td>-0.035115</td>\n",
       "      <td>-0.003611</td>\n",
       "      <td>-0.061602</td>\n",
       "      <td>0.009048</td>\n",
       "      <td>0.916311</td>\n",
       "      <td>1.000000</td>\n",
       "      <td>0.620027</td>\n",
       "      <td>0.619645</td>\n",
       "      <td>0.610999</td>\n",
       "      <td>0.543491</td>\n",
       "    </tr>\n",
       "    <tr>\n",
       "      <td>r_xp_creep</td>\n",
       "      <td>-0.022400</td>\n",
       "      <td>0.034614</td>\n",
       "      <td>0.031321</td>\n",
       "      <td>0.073881</td>\n",
       "      <td>0.007454</td>\n",
       "      <td>-0.004115</td>\n",
       "      <td>0.003213</td>\n",
       "      <td>-0.006973</td>\n",
       "      <td>0.025298</td>\n",
       "      <td>-0.030058</td>\n",
       "      <td>...</td>\n",
       "      <td>-0.010053</td>\n",
       "      <td>0.007871</td>\n",
       "      <td>-0.028287</td>\n",
       "      <td>0.021317</td>\n",
       "      <td>0.859789</td>\n",
       "      <td>0.620027</td>\n",
       "      <td>1.000000</td>\n",
       "      <td>0.719024</td>\n",
       "      <td>0.570904</td>\n",
       "      <td>0.803381</td>\n",
       "    </tr>\n",
       "    <tr>\n",
       "      <td>d_level</td>\n",
       "      <td>-0.039091</td>\n",
       "      <td>0.009807</td>\n",
       "      <td>0.021677</td>\n",
       "      <td>0.005712</td>\n",
       "      <td>0.021056</td>\n",
       "      <td>-0.007153</td>\n",
       "      <td>0.009797</td>\n",
       "      <td>0.002345</td>\n",
       "      <td>0.038998</td>\n",
       "      <td>-0.026359</td>\n",
       "      <td>...</td>\n",
       "      <td>-0.021465</td>\n",
       "      <td>0.002986</td>\n",
       "      <td>-0.006733</td>\n",
       "      <td>0.043098</td>\n",
       "      <td>0.716585</td>\n",
       "      <td>0.619645</td>\n",
       "      <td>0.719024</td>\n",
       "      <td>1.000000</td>\n",
       "      <td>0.923071</td>\n",
       "      <td>0.874472</td>\n",
       "    </tr>\n",
       "    <tr>\n",
       "      <td>d_xp_hero</td>\n",
       "      <td>-0.046028</td>\n",
       "      <td>-0.000217</td>\n",
       "      <td>0.002188</td>\n",
       "      <td>-0.013046</td>\n",
       "      <td>0.034784</td>\n",
       "      <td>-0.007747</td>\n",
       "      <td>0.009799</td>\n",
       "      <td>-0.005440</td>\n",
       "      <td>0.052709</td>\n",
       "      <td>-0.008596</td>\n",
       "      <td>...</td>\n",
       "      <td>-0.021476</td>\n",
       "      <td>0.013532</td>\n",
       "      <td>-0.003875</td>\n",
       "      <td>0.053774</td>\n",
       "      <td>0.638826</td>\n",
       "      <td>0.610999</td>\n",
       "      <td>0.570904</td>\n",
       "      <td>0.923071</td>\n",
       "      <td>1.000000</td>\n",
       "      <td>0.656259</td>\n",
       "    </tr>\n",
       "    <tr>\n",
       "      <td>d_xp_creep</td>\n",
       "      <td>-0.023203</td>\n",
       "      <td>0.013178</td>\n",
       "      <td>0.045034</td>\n",
       "      <td>0.017188</td>\n",
       "      <td>0.000317</td>\n",
       "      <td>-0.005085</td>\n",
       "      <td>0.006597</td>\n",
       "      <td>0.012893</td>\n",
       "      <td>0.015185</td>\n",
       "      <td>-0.042524</td>\n",
       "      <td>...</td>\n",
       "      <td>-0.024416</td>\n",
       "      <td>-0.009628</td>\n",
       "      <td>-0.014631</td>\n",
       "      <td>0.024297</td>\n",
       "      <td>0.708453</td>\n",
       "      <td>0.543491</td>\n",
       "      <td>0.803381</td>\n",
       "      <td>0.874472</td>\n",
       "      <td>0.656259</td>\n",
       "      <td>1.000000</td>\n",
       "    </tr>\n",
       "  </tbody>\n",
       "</table>\n",
       "<p>228 rows × 228 columns</p>\n",
       "</div>"
      ],
      "text/plain": [
       "                      r_Abaddon  r_Alchemist  r_Ancient Apparition  \\\n",
       "r_Abaddon              1.000000    -0.013470             -0.018095   \n",
       "r_Alchemist           -0.013470     1.000000             -0.003090   \n",
       "r_Ancient Apparition  -0.018095    -0.003090              1.000000   \n",
       "r_Anti-Mage           -0.003193    -0.040646              0.000122   \n",
       "r_Axe                 -0.006493    -0.010686             -0.003397   \n",
       "...                         ...          ...                   ...   \n",
       "r_xp_hero             -0.026269    -0.029316              0.025824   \n",
       "r_xp_creep            -0.022400     0.034614              0.031321   \n",
       "d_level               -0.039091     0.009807              0.021677   \n",
       "d_xp_hero             -0.046028    -0.000217              0.002188   \n",
       "d_xp_creep            -0.023203     0.013178              0.045034   \n",
       "\n",
       "                      r_Anti-Mage     r_Axe    r_Bane  r_Batrider  \\\n",
       "r_Abaddon               -0.003193 -0.006493 -0.012741    0.001347   \n",
       "r_Alchemist             -0.040646 -0.010686 -0.007645   -0.004332   \n",
       "r_Ancient Apparition     0.000122 -0.003397 -0.019443   -0.005354   \n",
       "r_Anti-Mage              1.000000 -0.001473  0.001874    0.003344   \n",
       "r_Axe                   -0.001473  1.000000 -0.005844   -0.003678   \n",
       "...                           ...       ...       ...         ...   \n",
       "r_xp_hero               -0.074794  0.004133 -0.018126    0.005203   \n",
       "r_xp_creep               0.073881  0.007454 -0.004115    0.003213   \n",
       "d_level                  0.005712  0.021056 -0.007153    0.009797   \n",
       "d_xp_hero               -0.013046  0.034784 -0.007747    0.009799   \n",
       "d_xp_creep               0.017188  0.000317 -0.005085    0.006597   \n",
       "\n",
       "                      r_Beastmaster  r_Bloodseeker  r_Bounty Hunter  ...  \\\n",
       "r_Abaddon                 -0.007718      -0.011400        -0.009317  ...   \n",
       "r_Alchemist               -0.003794      -0.005801        -0.002599  ...   \n",
       "r_Ancient Apparition       0.008525      -0.008577        -0.019957  ...   \n",
       "r_Anti-Mage               -0.006206      -0.014967        -0.010715  ...   \n",
       "r_Axe                     -0.011609      -0.015528        -0.014759  ...   \n",
       "...                             ...            ...              ...  ...   \n",
       "r_xp_hero                 -0.004824       0.033047        -0.011236  ...   \n",
       "r_xp_creep                -0.006973       0.025298        -0.030058  ...   \n",
       "d_level                    0.002345       0.038998        -0.026359  ...   \n",
       "d_xp_hero                 -0.005440       0.052709        -0.008596  ...   \n",
       "d_xp_creep                 0.012893       0.015185        -0.042524  ...   \n",
       "\n",
       "                      d_Winter Wyvern  d_Witch Doctor  d_Wraith King  \\\n",
       "r_Abaddon                   -0.002396        0.001380      -0.002111   \n",
       "r_Alchemist                 -0.015609       -0.005459       0.000019   \n",
       "r_Ancient Apparition         0.012245        0.003920      -0.003244   \n",
       "r_Anti-Mage                  0.003873       -0.006704       0.069627   \n",
       "r_Axe                       -0.015466       -0.001159      -0.009340   \n",
       "...                               ...             ...            ...   \n",
       "r_xp_hero                   -0.035115       -0.003611      -0.061602   \n",
       "r_xp_creep                  -0.010053        0.007871      -0.028287   \n",
       "d_level                     -0.021465        0.002986      -0.006733   \n",
       "d_xp_hero                   -0.021476        0.013532      -0.003875   \n",
       "d_xp_creep                  -0.024416       -0.009628      -0.014631   \n",
       "\n",
       "                        d_Zeus   r_level  r_xp_hero  r_xp_creep   d_level  \\\n",
       "r_Abaddon            -0.009744 -0.025769  -0.026269   -0.022400 -0.039091   \n",
       "r_Alchemist          -0.008308 -0.008692  -0.029316    0.034614  0.009807   \n",
       "r_Ancient Apparition -0.006987  0.026199   0.025824    0.031321  0.021677   \n",
       "r_Anti-Mage           0.010800 -0.019775  -0.074794    0.073881  0.005712   \n",
       "r_Axe                -0.002594  0.004619   0.004133    0.007454  0.021056   \n",
       "...                        ...       ...        ...         ...       ...   \n",
       "r_xp_hero             0.009048  0.916311   1.000000    0.620027  0.619645   \n",
       "r_xp_creep            0.021317  0.859789   0.620027    1.000000  0.719024   \n",
       "d_level               0.043098  0.716585   0.619645    0.719024  1.000000   \n",
       "d_xp_hero             0.053774  0.638826   0.610999    0.570904  0.923071   \n",
       "d_xp_creep            0.024297  0.708453   0.543491    0.803381  0.874472   \n",
       "\n",
       "                      d_xp_hero  d_xp_creep  \n",
       "r_Abaddon             -0.046028   -0.023203  \n",
       "r_Alchemist           -0.000217    0.013178  \n",
       "r_Ancient Apparition   0.002188    0.045034  \n",
       "r_Anti-Mage           -0.013046    0.017188  \n",
       "r_Axe                  0.034784    0.000317  \n",
       "...                         ...         ...  \n",
       "r_xp_hero              0.610999    0.543491  \n",
       "r_xp_creep             0.570904    0.803381  \n",
       "d_level                0.923071    0.874472  \n",
       "d_xp_hero              1.000000    0.656259  \n",
       "d_xp_creep             0.656259    1.000000  \n",
       "\n",
       "[228 rows x 228 columns]"
      ]
     },
     "execution_count": 28,
     "metadata": {},
     "output_type": "execute_result"
    }
   ],
   "source": [
    "X.corr()"
   ]
  },
  {
   "cell_type": "code",
   "execution_count": 29,
   "metadata": {},
   "outputs": [],
   "source": [
    "y_arr = OrdinalEncoder().fit_transform(matches['radiant_win'].values.reshape(-1,1))\n",
    "col = ['r_win']\n",
    "y = pd.DataFrame(y_arr, columns=col)"
   ]
  },
  {
   "cell_type": "code",
   "execution_count": 30,
   "metadata": {},
   "outputs": [],
   "source": [
    "X_train, X_test, y_train, y_test = train_test_split(X, y, test_size=0.2, random_state=42)"
   ]
  },
  {
   "cell_type": "markdown",
   "metadata": {},
   "source": [
    "### 1st attempt\n",
    "Try a simple LinearSVC model with default parameters to get an initial result"
   ]
  },
  {
   "cell_type": "code",
   "execution_count": 31,
   "metadata": {},
   "outputs": [],
   "source": [
    "cal_svc = CalibratedClassifierCV(\n",
    "            base_estimator=LinearSVC(\n",
    "                random_state=42, \n",
    "                C=10, \n",
    "                max_iter=1500, \n",
    "                verbose=False), \n",
    "            method='sigmoid', cv=5)"
   ]
  },
  {
   "cell_type": "code",
   "execution_count": 32,
   "metadata": {},
   "outputs": [
    {
     "name": "stdout",
     "output_type": "stream",
     "text": [
      "Elapsed: 26.07870388031006\n"
     ]
    }
   ],
   "source": [
    "start = time.time()\n",
    "cal_svc.fit(X_train, y_train)\n",
    "end = time.time()\n",
    "print('Elapsed: ' + str(end-start))"
   ]
  },
  {
   "cell_type": "code",
   "execution_count": 33,
   "metadata": {},
   "outputs": [
    {
     "name": "stdout",
     "output_type": "stream",
     "text": [
      "[[4371  444]\n",
      " [ 370 4815]]\n",
      "              precision    recall  f1-score   support\n",
      "\n",
      "         0.0       0.92      0.91      0.91      4815\n",
      "         1.0       0.92      0.93      0.92      5185\n",
      "\n",
      "    accuracy                           0.92     10000\n",
      "   macro avg       0.92      0.92      0.92     10000\n",
      "weighted avg       0.92      0.92      0.92     10000\n",
      "\n"
     ]
    }
   ],
   "source": [
    "y_pred = cal_svc.predict(X_test)\n",
    "print(metrics.confusion_matrix(y_test, y_pred))\n",
    "print(metrics.classification_report(y_test, y_pred))"
   ]
  },
  {
   "cell_type": "code",
   "execution_count": 34,
   "metadata": {},
   "outputs": [
    {
     "name": "stdout",
     "output_type": "stream",
     "text": [
      "Accuracy:  0.9186\n"
     ]
    }
   ],
   "source": [
    "print(\"Accuracy: \", metrics.accuracy_score(y_test, y_pred))"
   ]
  },
  {
   "cell_type": "code",
   "execution_count": 35,
   "metadata": {},
   "outputs": [
    {
     "data": {
      "image/png": "[encoded data removed]",
      "text/plain": [
       "<Figure size 432x288 with 1 Axes>"
      ]
     },
     "metadata": {
      "needs_background": "light"
     },
     "output_type": "display_data"
    }
   ],
   "source": [
    "y_pred_proba = cal_svc.predict_proba(X_test)[::,1]\n",
    "fpr, tpr, _ = metrics.roc_curve(y_test, y_pred_proba)\n",
    "auc = metrics.roc_auc_score(y_test, y_pred_proba)\n",
    "\n",
    "plt.plot(fpr, tpr, label=\"SVC, auc= \" + str(auc))\n",
    "plt.plot([0,1],[0,1],'k--')\n",
    "plt.legend(loc=4)\n",
    "plt.show()"
   ]
  },
  {
   "cell_type": "markdown",
   "metadata": {},
   "source": [
    "### 1st attempt summary\n",
    "Using a linear SVM with default parameters, the accuracy achieved is already good at 91.86%"
   ]
  },
  {
   "cell_type": "markdown",
   "metadata": {},
   "source": [
    "### 2nd attempt\n",
    "Try to improve further by normalizing the input data"
   ]
  },
  {
   "cell_type": "code",
   "execution_count": 36,
   "metadata": {},
   "outputs": [],
   "source": [
    "scale_pipe = Pipeline([\n",
    "    ('norm', Normalizer()),\n",
    "    ('cal_linsvc', CalibratedClassifierCV(\n",
    "                    base_estimator=LinearSVC(\n",
    "                        random_state=42,\n",
    "                        C=10.0,\n",
    "                        max_iter=1500,\n",
    "                        verbose=False),\n",
    "                    cv=10,\n",
    "                    method='sigmoid'))\n",
    "])"
   ]
  },
  {
   "cell_type": "code",
   "execution_count": 37,
   "metadata": {},
   "outputs": [
    {
     "name": "stdout",
     "output_type": "stream",
     "text": [
      "Elapsed: 12.156528234481812\n"
     ]
    }
   ],
   "source": [
    "start = time.time()\n",
    "scale_pipe.fit(X_train, y_train)\n",
    "end = time.time()\n",
    "print('Elapsed: ' + str(end-start))"
   ]
  },
  {
   "cell_type": "code",
   "execution_count": 38,
   "metadata": {},
   "outputs": [
    {
     "name": "stdout",
     "output_type": "stream",
     "text": [
      "[[4422  393]\n",
      " [ 360 4825]]\n",
      "              precision    recall  f1-score   support\n",
      "\n",
      "         0.0       0.92      0.92      0.92      4815\n",
      "         1.0       0.92      0.93      0.93      5185\n",
      "\n",
      "    accuracy                           0.92     10000\n",
      "   macro avg       0.92      0.92      0.92     10000\n",
      "weighted avg       0.92      0.92      0.92     10000\n",
      "\n"
     ]
    }
   ],
   "source": [
    "X_test_scale = Normalizer().fit_transform(X_test)\n",
    "y_pred = scale_pipe.predict(X_test_scale)\n",
    "print(metrics.confusion_matrix(y_test, y_pred))\n",
    "print(metrics.classification_report(y_test, y_pred))"
   ]
  },
  {
   "cell_type": "code",
   "execution_count": 39,
   "metadata": {},
   "outputs": [
    {
     "name": "stdout",
     "output_type": "stream",
     "text": [
      "Accuracy:  0.9247\n"
     ]
    }
   ],
   "source": [
    "print(\"Accuracy: \", metrics.accuracy_score(y_test, y_pred))"
   ]
  },
  {
   "cell_type": "code",
   "execution_count": 40,
   "metadata": {},
   "outputs": [
    {
     "data": {
      "image/png": "[encoded data removed]",
      "text/plain": [
       "<Figure size 432x288 with 1 Axes>"
      ]
     },
     "metadata": {
      "needs_background": "light"
     },
     "output_type": "display_data"
    }
   ],
   "source": [
    "y_pred_proba = cal_svc.predict_proba(X_test_scale)[::,1]\n",
    "fpr, tpr, _ = metrics.roc_curve(y_test, y_pred_proba)\n",
    "auc = metrics.roc_auc_score(y_test, y_pred_proba)\n",
    "\n",
    "plt.plot(fpr, tpr, label=\"SVC, auc= \" + str(auc))\n",
    "plt.plot([0,1],[0,1],'k--')\n",
    "plt.legend(loc=4)\n",
    "plt.show()"
   ]
  },
  {
   "cell_type": "markdown",
   "metadata": {},
   "source": [
    "### 2nd attempt summary\n",
    "After normalizing the data, a slight improvement to 92.47% accuracy could be observed"
   ]
  },
  {
   "cell_type": "markdown",
   "metadata": {},
   "source": [
    "### 3rd attempt\n",
    "Try to search for the best hyperparameter with a random search"
   ]
  },
  {
   "cell_type": "code",
   "execution_count": 41,
   "metadata": {},
   "outputs": [],
   "source": [
    "params = {\n",
    "    'cal_linsvc__base_estimator__C': [0.1, 1.0, 10, 100, 1000],\n",
    "    'cal_linsvc__base_estimator__max_iter': [1000, 3000, 5000, 10000],\n",
    "    'cal_linsvc__cv': [5, 10, 15]\n",
    "}"
   ]
  },
  {
   "cell_type": "code",
   "execution_count": 42,
   "metadata": {},
   "outputs": [],
   "source": [
    "scale_pipe = Pipeline([\n",
    "    ('norm', Normalizer()),\n",
    "    ('cal_linsvc', CalibratedClassifierCV(\n",
    "                    base_estimator=LinearSVC(\n",
    "                        random_state=42,\n",
    "                        C=10.0,\n",
    "                        max_iter=1500,\n",
    "                        verbose=False),\n",
    "                    cv=10,\n",
    "                    method='sigmoid'))\n",
    "])\n",
    "\n",
    "rs = RandomizedSearchCV(\n",
    "    estimator=scale_pipe,\n",
    "    random_state=42,\n",
    "    n_jobs=-1,\n",
    "    cv=10,\n",
    "    param_distributions=params)"
   ]
  },
  {
   "cell_type": "code",
   "execution_count": 43,
   "metadata": {},
   "outputs": [
    {
     "name": "stdout",
     "output_type": "stream",
     "text": [
      "Elapsed: 725.2456760406494\n"
     ]
    }
   ],
   "source": [
    "start = time.time()\n",
    "rs.fit(X_train, y_train)\n",
    "end = time.time()\n",
    "print('Elapsed: ' + str(end-start))"
   ]
  },
  {
   "cell_type": "code",
   "execution_count": 44,
   "metadata": {},
   "outputs": [
    {
     "name": "stdout",
     "output_type": "stream",
     "text": [
      "[[4423  392]\n",
      " [ 358 4827]]\n",
      "              precision    recall  f1-score   support\n",
      "\n",
      "         0.0       0.93      0.92      0.92      4815\n",
      "         1.0       0.92      0.93      0.93      5185\n",
      "\n",
      "    accuracy                           0.93     10000\n",
      "   macro avg       0.93      0.92      0.92     10000\n",
      "weighted avg       0.93      0.93      0.92     10000\n",
      "\n"
     ]
    }
   ],
   "source": [
    "X_test_scale = Normalizer().fit_transform(X_test)\n",
    "y_pred = rs.predict(X_test_scale)\n",
    "print(metrics.confusion_matrix(y_test, y_pred))\n",
    "print(metrics.classification_report(y_test, y_pred))"
   ]
  },
  {
   "cell_type": "code",
   "execution_count": 45,
   "metadata": {},
   "outputs": [
    {
     "name": "stdout",
     "output_type": "stream",
     "text": [
      "Accuracy:  0.925\n"
     ]
    }
   ],
   "source": [
    "print(\"Accuracy: \", metrics.accuracy_score(y_test, y_pred))"
   ]
  },
  {
   "cell_type": "code",
   "execution_count": 46,
   "metadata": {},
   "outputs": [
    {
     "data": {
      "image/png": "[encoded data removed]",
      "text/plain": [
       "<Figure size 432x288 with 1 Axes>"
      ]
     },
     "metadata": {
      "needs_background": "light"
     },
     "output_type": "display_data"
    }
   ],
   "source": [
    "y_pred_proba = rs.predict_proba(X_test_scale)[::,1]\n",
    "fpr, tpr, _ = metrics.roc_curve(y_test, y_pred_proba)\n",
    "auc = metrics.roc_auc_score(y_test, y_pred_proba)\n",
    "\n",
    "plt.plot(fpr, tpr, label=\"SVC, auc= \" + str(auc))\n",
    "plt.plot([0,1],[0,1],'k--')\n",
    "plt.legend(loc=4)\n",
    "plt.show()"
   ]
  },
  {
   "cell_type": "code",
   "execution_count": 47,
   "metadata": {},
   "outputs": [
    {
     "data": {
      "text/plain": [
       "Pipeline(memory=None,\n",
       "         steps=[('norm', Normalizer(copy=True, norm='l2')),\n",
       "                ('cal_linsvc',\n",
       "                 CalibratedClassifierCV(base_estimator=LinearSVC(C=1000,\n",
       "                                                                 class_weight=None,\n",
       "                                                                 dual=True,\n",
       "                                                                 fit_intercept=True,\n",
       "                                                                 intercept_scaling=1,\n",
       "                                                                 loss='squared_hinge',\n",
       "                                                                 max_iter=5000,\n",
       "                                                                 multi_class='ovr',\n",
       "                                                                 penalty='l2',\n",
       "                                                                 random_state=42,\n",
       "                                                                 tol=0.0001,\n",
       "                                                                 verbose=False),\n",
       "                                        cv=5, method='sigmoid'))],\n",
       "         verbose=False)"
      ]
     },
     "execution_count": 47,
     "metadata": {},
     "output_type": "execute_result"
    }
   ],
   "source": [
    "rs.best_estimator_"
   ]
  },
  {
   "cell_type": "code",
   "execution_count": 48,
   "metadata": {},
   "outputs": [
    {
     "data": {
      "text/plain": [
       "{'cal_linsvc__cv': 5,\n",
       " 'cal_linsvc__base_estimator__max_iter': 5000,\n",
       " 'cal_linsvc__base_estimator__C': 1000}"
      ]
     },
     "execution_count": 48,
     "metadata": {},
     "output_type": "execute_result"
    }
   ],
   "source": [
    "rs.best_params_"
   ]
  },
  {
   "cell_type": "markdown",
   "metadata": {},
   "source": [
    "### 3rd attempt summary\n",
    "After performing a random search for optimal hyperparameters, accuracy improved very slightly by 0.001%"
   ]
  },
  {
   "cell_type": "markdown",
   "metadata": {},
   "source": [
    "### 4th attempt\n",
    "Train the dataset with a Gradient Boosting ensemble model and compare result with model above"
   ]
  },
  {
   "cell_type": "code",
   "execution_count": 49,
   "metadata": {},
   "outputs": [],
   "source": [
    "gboost_norm_pipe = Pipeline([\n",
    "    ('norm', Normalizer()),\n",
    "    ('gboost', GradientBoostingClassifier())\n",
    "])"
   ]
  },
  {
   "cell_type": "code",
   "execution_count": 50,
   "metadata": {},
   "outputs": [
    {
     "name": "stdout",
     "output_type": "stream",
     "text": [
      "Elapsed: 23.490066051483154\n"
     ]
    }
   ],
   "source": [
    "start = time.time()\n",
    "gboost_norm_pipe.fit(X_train, y_train)\n",
    "end = time.time()\n",
    "print('Elapsed: ' + str(end-start))"
   ]
  },
  {
   "cell_type": "code",
   "execution_count": 51,
   "metadata": {},
   "outputs": [
    {
     "name": "stdout",
     "output_type": "stream",
     "text": [
      "[[4470  345]\n",
      " [ 321 4864]]\n",
      "              precision    recall  f1-score   support\n",
      "\n",
      "         0.0       0.93      0.93      0.93      4815\n",
      "         1.0       0.93      0.94      0.94      5185\n",
      "\n",
      "    accuracy                           0.93     10000\n",
      "   macro avg       0.93      0.93      0.93     10000\n",
      "weighted avg       0.93      0.93      0.93     10000\n",
      "\n"
     ]
    }
   ],
   "source": [
    "X_test_scale = Normalizer().fit_transform(X_test)\n",
    "y_pred = gboost_norm_pipe.predict(X_test_scale)\n",
    "print(metrics.confusion_matrix(y_test, y_pred))\n",
    "print(metrics.classification_report(y_test, y_pred))"
   ]
  },
  {
   "cell_type": "code",
   "execution_count": 52,
   "metadata": {},
   "outputs": [
    {
     "name": "stdout",
     "output_type": "stream",
     "text": [
      "Accuracy:  0.9334\n"
     ]
    }
   ],
   "source": [
    "print(\"Accuracy: \", metrics.accuracy_score(y_test, y_pred))"
   ]
  },
  {
   "cell_type": "code",
   "execution_count": 53,
   "metadata": {},
   "outputs": [
    {
     "data": {
      "image/png": "[encoded data removed]",
      "text/plain": [
       "<Figure size 432x288 with 1 Axes>"
      ]
     },
     "metadata": {
      "needs_background": "light"
     },
     "output_type": "display_data"
    }
   ],
   "source": [
    "y_pred_proba = gboost_norm_pipe.predict_proba(X_test_scale)[::,1]\n",
    "fpr, tpr, _ = metrics.roc_curve(y_test, y_pred_proba)\n",
    "auc = metrics.roc_auc_score(y_test, y_pred_proba)\n",
    "\n",
    "plt.plot(fpr, tpr, label=\"SVC, auc= \" + str(auc))\n",
    "plt.plot([0,1],[0,1],'k--')\n",
    "plt.legend(loc=4)\n",
    "plt.show()"
   ]
  },
  {
   "cell_type": "code",
   "execution_count": null,
   "metadata": {},
   "outputs": [],
   "source": []
  },
  {
   "cell_type": "markdown",
   "metadata": {},
   "source": [
    "### 4th attempt summary\n",
    "Using a gradient boosting ensemble model with default parameters, the accuracy achieved is already quite good at 93.34%.\n",
    "This shows that an gradient boost ensemble model with untune hyperparameters could out performed a tune LinearSVC model for this dataset."
   ]
  },
  {
   "cell_type": "markdown",
   "metadata": {},
   "source": [
    "### 5th attempt\n",
    "Fine tune gradient boosting hyperparameters with a random search"
   ]
  },
  {
   "cell_type": "code",
   "execution_count": 54,
   "metadata": {},
   "outputs": [],
   "source": [
    "params = {\n",
    "    'gboost__learning_rate': uniform(0.01, 10.0),\n",
    "    'gboost__n_estimators': randint(10, 1000),\n",
    "    'gboost__min_samples_split': randint(2, 10),\n",
    "    'gboost__min_samples_leaf': randint(3, 10),\n",
    "    'gboost__max_depth': randint(3,10),\n",
    "    'gboost__max_features': ('auto', 'sqrt', 'log2')\n",
    "}"
   ]
  },
  {
   "cell_type": "code",
   "execution_count": 55,
   "metadata": {},
   "outputs": [
    {
     "data": {
      "text/plain": [
       "dict_keys(['cv', 'error_score', 'estimator__memory', 'estimator__steps', 'estimator__verbose', 'estimator__norm', 'estimator__gboost', 'estimator__norm__copy', 'estimator__norm__norm', 'estimator__gboost__criterion', 'estimator__gboost__init', 'estimator__gboost__learning_rate', 'estimator__gboost__loss', 'estimator__gboost__max_depth', 'estimator__gboost__max_features', 'estimator__gboost__max_leaf_nodes', 'estimator__gboost__min_impurity_decrease', 'estimator__gboost__min_impurity_split', 'estimator__gboost__min_samples_leaf', 'estimator__gboost__min_samples_split', 'estimator__gboost__min_weight_fraction_leaf', 'estimator__gboost__n_estimators', 'estimator__gboost__n_iter_no_change', 'estimator__gboost__presort', 'estimator__gboost__random_state', 'estimator__gboost__subsample', 'estimator__gboost__tol', 'estimator__gboost__validation_fraction', 'estimator__gboost__verbose', 'estimator__gboost__warm_start', 'estimator', 'iid', 'n_iter', 'n_jobs', 'param_distributions', 'pre_dispatch', 'random_state', 'refit', 'return_train_score', 'scoring', 'verbose'])"
      ]
     },
     "execution_count": 55,
     "metadata": {},
     "output_type": "execute_result"
    }
   ],
   "source": [
    "gboost_norm_pipe = Pipeline([\n",
    "    ('norm', Normalizer()),\n",
    "    ('gboost', GradientBoostingClassifier(\n",
    "                random_state=42, \n",
    "                verbose=False))\n",
    "])\n",
    "\n",
    "gs_gboost = RandomizedSearchCV(\n",
    "                gboost_norm_pipe, \n",
    "                param_distributions=params,\n",
    "                random_state=42,\n",
    "                n_jobs=-1, cv=5)\n",
    "gs_gboost.get_params().keys()"
   ]
  },
  {
   "cell_type": "code",
   "execution_count": 56,
   "metadata": {},
   "outputs": [
    {
     "name": "stdout",
     "output_type": "stream",
     "text": [
      "Elapsed: 2869.8277485370636\n"
     ]
    }
   ],
   "source": [
    "start = time.time()\n",
    "gs_gboost.fit(X_train, y_train)\n",
    "end = time.time()\n",
    "print('Elapsed: ' + str(end-start))"
   ]
  },
  {
   "cell_type": "code",
   "execution_count": 57,
   "metadata": {},
   "outputs": [
    {
     "name": "stdout",
     "output_type": "stream",
     "text": [
      "[[4494  321]\n",
      " [ 317 4868]]\n",
      "              precision    recall  f1-score   support\n",
      "\n",
      "         0.0       0.93      0.93      0.93      4815\n",
      "         1.0       0.94      0.94      0.94      5185\n",
      "\n",
      "    accuracy                           0.94     10000\n",
      "   macro avg       0.94      0.94      0.94     10000\n",
      "weighted avg       0.94      0.94      0.94     10000\n",
      "\n"
     ]
    }
   ],
   "source": [
    "X_test_scale = Normalizer().fit_transform(X_test)\n",
    "y_pred = gs_gboost.predict(X_test_scale)\n",
    "print(metrics.confusion_matrix(y_test, y_pred))\n",
    "print(metrics.classification_report(y_test, y_pred))"
   ]
  },
  {
   "cell_type": "code",
   "execution_count": 58,
   "metadata": {},
   "outputs": [
    {
     "name": "stdout",
     "output_type": "stream",
     "text": [
      "Accuracy:  0.9362\n"
     ]
    }
   ],
   "source": [
    "print(\"Accuracy: \", metrics.accuracy_score(y_test, y_pred))"
   ]
  },
  {
   "cell_type": "code",
   "execution_count": 59,
   "metadata": {},
   "outputs": [
    {
     "data": {
      "image/png": "[encoded data removed]",
      "text/plain": [
       "<Figure size 432x288 with 1 Axes>"
      ]
     },
     "metadata": {
      "needs_background": "light"
     },
     "output_type": "display_data"
    }
   ],
   "source": [
    "y_pred_proba = gs_gboost.predict_proba(X_test_scale)[::,1]\n",
    "fpr, tpr, _ = metrics.roc_curve(y_test, y_pred_proba)\n",
    "auc = metrics.roc_auc_score(y_test, y_pred_proba)\n",
    "\n",
    "plt.plot(fpr, tpr, label=\"SVC, auc= \" + str(auc))\n",
    "plt.plot([0,1],[0,1],'k--')\n",
    "plt.legend(loc=4)\n",
    "plt.show()"
   ]
  },
  {
   "cell_type": "code",
   "execution_count": 60,
   "metadata": {},
   "outputs": [
    {
     "data": {
      "text/plain": [
       "Pipeline(memory=None,\n",
       "         steps=[('norm', Normalizer(copy=True, norm='l2')),\n",
       "                ('gboost',\n",
       "                 GradientBoostingClassifier(criterion='friedman_mse', init=None,\n",
       "                                            learning_rate=0.24062425041415758,\n",
       "                                            loss='deviance', max_depth=5,\n",
       "                                            max_features='log2',\n",
       "                                            max_leaf_nodes=None,\n",
       "                                            min_impurity_decrease=0.0,\n",
       "                                            min_impurity_split=None,\n",
       "                                            min_samples_leaf=9,\n",
       "                                            min_samples_split=3,\n",
       "                                            min_weight_fraction_leaf=0.0,\n",
       "                                            n_estimators=485,\n",
       "                                            n_iter_no_change=None,\n",
       "                                            presort='auto', random_state=42,\n",
       "                                            subsample=1.0, tol=0.0001,\n",
       "                                            validation_fraction=0.1,\n",
       "                                            verbose=False, warm_start=False))],\n",
       "         verbose=False)"
      ]
     },
     "execution_count": 60,
     "metadata": {},
     "output_type": "execute_result"
    }
   ],
   "source": [
    "gs_gboost.best_estimator_"
   ]
  },
  {
   "cell_type": "code",
   "execution_count": 61,
   "metadata": {},
   "outputs": [
    {
     "data": {
      "text/plain": [
       "{'gboost__learning_rate': 0.24062425041415758,\n",
       " 'gboost__max_depth': 5,\n",
       " 'gboost__max_features': 'log2',\n",
       " 'gboost__min_samples_leaf': 9,\n",
       " 'gboost__min_samples_split': 3,\n",
       " 'gboost__n_estimators': 485}"
      ]
     },
     "execution_count": 61,
     "metadata": {},
     "output_type": "execute_result"
    }
   ],
   "source": [
    "gs_gboost.best_params_"
   ]
  },
  {
   "cell_type": "markdown",
   "metadata": {},
   "source": [
    "### 5th attempt summary\n",
    "After a random search for optimal hyperparameter, the accuracy increased 0.03% compared to the default parameters."
   ]
  },
  {
   "cell_type": "code",
   "execution_count": null,
   "metadata": {},
   "outputs": [],
   "source": []
  }
 ],
 "metadata": {
  "kernelspec": {
   "display_name": "Python 3",
   "language": "python",
   "name": "python3"
  },
  "language_info": {
   "codemirror_mode": {
    "name": "ipython",
    "version": 3
   },
   "file_extension": ".py",
   "mimetype": "text/x-python",
   "name": "python",
   "nbconvert_exporter": "python",
   "pygments_lexer": "ipython3",
   "version": "3.6.7"
  }
 },
 "nbformat": 4,
 "nbformat_minor": 4
}
